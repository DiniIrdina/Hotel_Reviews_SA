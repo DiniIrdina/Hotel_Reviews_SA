{
 "cells": [
  {
   "cell_type": "code",
   "execution_count": 1,
   "metadata": {},
   "outputs": [
    {
     "name": "stderr",
     "output_type": "stream",
     "text": [
      "c:\\Users\\Dini\\anaconda3\\envs\\tf-gpu\\lib\\site-packages\\tqdm\\auto.py:21: TqdmWarning: IProgress not found. Please update jupyter and ipywidgets. See https://ipywidgets.readthedocs.io/en/stable/user_install.html\n",
      "  from .autonotebook import tqdm as notebook_tqdm\n"
     ]
    },
    {
     "name": "stdout",
     "output_type": "stream",
     "text": [
      "Version 0.9.10.post1 of metric_visualizer is outdated. Version 0.9.13.post1 was released Wednesday May 01, 2024.\n",
      "[2024-05-24 22:52:49] (2.4.1.post1) \u001b[31mPyABSA(2.4.1.post1): If your code crashes on Colab, please use the GPU runtime. Then run \"pip install pyabsa[dev] -U\" and restart the kernel.\n",
      "Or if it does not work, you can use v1.x versions, e.g., pip install pyabsa<2.0 -U\n",
      "\n",
      "\n",
      "\n",
      "\n",
      "WARNING: When you fails to load a checkpoint, e.g., Unexpected key(s),\n",
      "Try to downgrade transformers<=4.29.0.\n",
      "\n",
      "\n",
      "\n",
      "\u001b[0m\n"
     ]
    },
    {
     "name": "stderr",
     "output_type": "stream",
     "text": [
      "c:\\Users\\Dini\\anaconda3\\envs\\tf-gpu\\lib\\multiprocessing\\pool.py:268: ResourceWarning: unclosed running multiprocessing pool <multiprocessing.pool.Pool state=RUN pool_size=1>\n",
      "  _warn(f\"unclosed running multiprocessing pool {self!r}\",\n",
      "ResourceWarning: Enable tracemalloc to get the object allocation traceback\n"
     ]
    },
    {
     "name": "stdout",
     "output_type": "stream",
     "text": [
      "[2024-05-24 22:52:59] (2.4.1.post1) Set Model Device: cuda:0\n",
      "[2024-05-24 22:52:59] (2.4.1.post1) Device Name: NVIDIA GeForce RTX 3080 Ti\n",
      "2024-05-24 22:53:00,118 INFO: PyABSA version: 2.4.1.post1\n",
      "2024-05-24 22:53:00,118 INFO: Transformers version: 4.30.0\n",
      "2024-05-24 22:53:00,120 INFO: Torch version: 2.3.0+cu121+cuda12.1\n",
      "2024-05-24 22:53:00,120 INFO: Device: NVIDIA GeForce RTX 3080 Ti\n",
      "2024-05-24 22:53:00,124 INFO: Searching dataset HotelDS in local disk\n",
      "2024-05-24 22:53:00,157 INFO: You can set load_aug=True in a trainer to augment your dataset (English only yet) and improve performance.\n",
      "2024-05-24 22:53:00,158 INFO: Please use a new folder to perform new text augment if the former augment in integrated_datasets\\aste_datasets\\HotelDS errored unexpectedly\n",
      "[2024-05-24 22:53:00] (2.4.1.post1) \u001b[33mUse torch.AMP for training! Please disable it if you encounter convergence problems.\u001b[0m\n"
     ]
    },
    {
     "name": "stderr",
     "output_type": "stream",
     "text": [
      "Special tokens have been added in the vocabulary, make sure the associated word embeddings are fine-tuned or trained.\n",
      "c:\\Users\\Dini\\anaconda3\\envs\\tf-gpu\\lib\\site-packages\\transformers\\convert_slow_tokenizer.py:454: UserWarning: The sentencepiece tokenizer that you are converting to a fast tokenizer uses the byte fallback option which is not implemented in the fast tokenizers. In practice this means that the fast version of the tokenizer can produce unknown tokens whereas the sentencepiece version would have converted these unknown tokens into a sequence of byte tokens matching the original piece of text.\n",
      "  warnings.warn(\n",
      "Special tokens have been added in the vocabulary, make sure the associated word embeddings are fine-tuned or trained.\n"
     ]
    },
    {
     "name": "stdout",
     "output_type": "stream",
     "text": [
      "2024-05-24 22:53:01,546 INFO: Load dataset from integrated_datasets\\aste_datasets\\HotelDS\\train.txt\n"
     ]
    },
    {
     "name": "stderr",
     "output_type": "stream",
     "text": [
      "preparing dataloader:   2%|▏         | 19/1014 [00:00<00:05, 184.59it/s]"
     ]
    },
    {
     "name": "stdout",
     "output_type": "stream",
     "text": [
      "Invalid annotations format, please check your dataset file.\n"
     ]
    },
    {
     "name": "stderr",
     "output_type": "stream",
     "text": [
      "preparing dataloader:  15%|█▌        | 156/1014 [00:00<00:04, 189.25it/s]"
     ]
    },
    {
     "name": "stdout",
     "output_type": "stream",
     "text": [
      "Invalid annotations format, please check your dataset file.\n"
     ]
    },
    {
     "name": "stderr",
     "output_type": "stream",
     "text": [
      "preparing dataloader:  21%|██▏       | 216/1014 [00:01<00:04, 191.20it/s]"
     ]
    },
    {
     "name": "stdout",
     "output_type": "stream",
     "text": [
      "Invalid annotations format, please check your dataset file.\n"
     ]
    },
    {
     "name": "stderr",
     "output_type": "stream",
     "text": [
      "preparing dataloader:  34%|███▍      | 345/1014 [00:01<00:03, 203.28it/s]"
     ]
    },
    {
     "name": "stdout",
     "output_type": "stream",
     "text": [
      "invalid syntax (<string>, line 1)\n"
     ]
    },
    {
     "name": "stderr",
     "output_type": "stream",
     "text": [
      "preparing dataloader:  62%|██████▏   | 624/1014 [00:03<00:02, 188.85it/s]"
     ]
    },
    {
     "name": "stdout",
     "output_type": "stream",
     "text": [
      "We stayed 4 nights at Hotel Barocco in Rome and it was PERFECt ! The front desk staff could not be more helpful    helped us find Covid testing and airport transfers and reservations / cancelations for dinners . They were so pleasant and charming . Had a drink in their bar one night and spent a long time talking to the bar staff and manager    so interesting .\n",
      "We stayed 4 nights at Hotel Barocco in Rome and it was PERFECt ! The front desk staff could not be more helpful -- helped us find Covid testing and airport transfers and reservations / cancelations for dinners . They were so pleasant and charming . Had a drink in their bar one night and spent a long time talking to the bar staff and manager -- so interesting .####[([5], [12], 'POS'), ([15, 16, 17], [22], 'POS'), ([15, 16, 17], [42], 'POS'), ([15, 16, 17], [44], 'POS'), ([62, 63], [68], 'POS'), ([65], [68], 'POS')]\n",
      "[([5], [12], 'POS'), ([15, 16, 17], [22], 'POS'), ([15, 16, 17], [42], 'POS'), ([15, 16, 17], [44], 'POS'), ([62, 63], [68], 'POS'), ([65], [68], 'POS')]\n"
     ]
    },
    {
     "name": "stderr",
     "output_type": "stream",
     "text": [
      "preparing dataloader:  65%|██████▌   | 663/1014 [00:03<00:01, 176.42it/s]"
     ]
    },
    {
     "name": "stdout",
     "output_type": "stream",
     "text": [
      "We were just at the Singer Palace hotel for four nights prior to a cruise in May and we returned for an additional night at the end of our cruise . Everybody without exception was friendly , helpful , and professional .\n",
      "We were just at the Singer Palace hotel for four nights prior to a cruise in May and we returned for an additional night at the end of our cruise . Everybody without exception was friendly , helpful , and professional .####[([31], [35], 'POS'), ([31], [47], 'POS'), ([31], [40], 'POS')]\n",
      "[([31], [35], 'POS'), ([31], [47], 'POS'), ([31], [40], 'POS')]\n"
     ]
    },
    {
     "name": "stderr",
     "output_type": "stream",
     "text": [
      "preparing dataloader:  69%|██████▉   | 700/1014 [00:03<00:01, 162.42it/s]"
     ]
    },
    {
     "name": "stdout",
     "output_type": "stream",
     "text": [
      "The pool , gym and wellness are very nice . The outlook and the terrace of cafe Jakarta are wonderful . By bike the city is just a heartbeat away . We’ve had an absolute great stay and will definitely be back again .\n",
      "The pool , gym and wellness are very nice . The outlook and the terrace of cafe Jakarta are wonderful . By bike the city is just a heartbeat away . We’ve had an absolute great stay and will definitely be back again .####[([1], [58], 'POS'), ([3], [8], 'POS'), ([5], [8], 'POS'), ([14], [19], 'POS')]\n",
      "[([1], [58], 'POS'), ([3], [8], 'POS'), ([5], [8], 'POS'), ([14], [19], 'POS')]\n"
     ]
    },
    {
     "name": "stderr",
     "output_type": "stream",
     "text": [
      "preparing dataloader: 100%|██████████| 1014/1014 [00:05<00:00, 177.00it/s]\n"
     ]
    },
    {
     "name": "stdout",
     "output_type": "stream",
     "text": [
      "2024-05-24 22:53:07,807 INFO: train data examples:\n",
      " [{'id': tensor(0), 'sentence': 'aExcellent staff , location is excellent .', 'postag': ['PUNCT', 'VERB', 'PUNCT', 'NOUN', 'NOUN', 'NOUN', 'PUNCT'], 'head': tensor([1, 1, 1, 4, 1, 1, 1]), 'deprel': ['dep', 'ROOT', 'punct', 'nsubj', 'dep', 'conj', 'punct'], 'triples': [{'uid': '0-0', 'target_tags': 'aExcellent\\\\O staff\\\\B ,\\\\O location\\\\O is\\\\O excellent\\\\O .\\\\O', 'opinion_tags': 'aExcellent\\\\B staff\\\\O ,\\\\O location\\\\O is\\\\O excellent\\\\O .\\\\O', 'sentiment': 'Positive'}, {'uid': '0-1', 'target_tags': 'aExcellent\\\\O staff\\\\B ,\\\\O location\\\\O is\\\\O excellent\\\\O .\\\\O', 'opinion_tags': 'aExcellent\\\\O staff\\\\O ,\\\\O location\\\\O is\\\\O excellent\\\\B .\\\\O', 'sentiment': 'Positive'}, {'uid': '1-0', 'target_tags': 'aExcellent\\\\O staff\\\\O ,\\\\O location\\\\B is\\\\O excellent\\\\O .\\\\O', 'opinion_tags': 'aExcellent\\\\B staff\\\\O ,\\\\O location\\\\O is\\\\O excellent\\\\O .\\\\O', 'sentiment': 'Positive'}, {'uid': '1-1', 'target_tags': 'aExcellent\\\\O staff\\\\O ,\\\\O location\\\\B is\\\\O excellent\\\\O .\\\\O', 'opinion_tags': 'aExcellent\\\\O staff\\\\O ,\\\\O location\\\\O is\\\\O excellent\\\\B .\\\\O', 'sentiment': 'Positive'}]}, {'id': tensor(1), 'sentence': 'Our room was small and no door to bathroom .', 'postag': ['NOUN', 'NOUN', 'NOUN', 'PROPN', 'CCONJ', 'ADJ', 'NOUN', 'ADP', 'NOUN', 'PUNCT'], 'head': tensor([1, 2, 3, 8, 8, 6, 4, 8, 8, 8]), 'deprel': ['compound:nn', 'compound:nn', 'appos', 'conj', 'cc', 'amod', 'dep', 'case', 'ROOT', 'punct'], 'triples': [{'uid': '0-0', 'target_tags': 'Our\\\\O room\\\\B was\\\\O small\\\\O and\\\\O no\\\\O door\\\\O to\\\\O bathroom\\\\O .\\\\O', 'opinion_tags': 'Our\\\\O room\\\\O was\\\\O small\\\\B and\\\\O no\\\\O door\\\\O to\\\\O bathroom\\\\O .\\\\O', 'sentiment': 'Negative'}, {'uid': '0-1', 'target_tags': 'Our\\\\O room\\\\B was\\\\O small\\\\O and\\\\O no\\\\O door\\\\O to\\\\O bathroom\\\\O .\\\\O', 'opinion_tags': 'Our\\\\O room\\\\O was\\\\O small\\\\O and\\\\O no\\\\B door\\\\I to\\\\O bathroom\\\\O .\\\\O', 'sentiment': 'Negative'}, {'uid': '1-0', 'target_tags': 'Our\\\\O room\\\\O was\\\\O small\\\\O and\\\\O no\\\\O door\\\\O to\\\\O bathroom\\\\B .\\\\O', 'opinion_tags': 'Our\\\\O room\\\\O was\\\\O small\\\\B and\\\\O no\\\\O door\\\\O to\\\\O bathroom\\\\O .\\\\O', 'sentiment': 'Negative'}, {'uid': '1-1', 'target_tags': 'Our\\\\O room\\\\O was\\\\O small\\\\O and\\\\O no\\\\O door\\\\O to\\\\O bathroom\\\\B .\\\\O', 'opinion_tags': 'Our\\\\O room\\\\O was\\\\O small\\\\O and\\\\O no\\\\B door\\\\I to\\\\O bathroom\\\\O .\\\\O', 'sentiment': 'Negative'}]}]\n",
      "2024-05-24 22:53:08,354 INFO: Load dataset from integrated_datasets\\aste_datasets\\HotelDS\\test.txt\n"
     ]
    },
    {
     "name": "stderr",
     "output_type": "stream",
     "text": [
      "preparing dataloader:  62%|██████▏   | 83/134 [00:00<00:00, 188.55it/s]"
     ]
    },
    {
     "name": "stdout",
     "output_type": "stream",
     "text": [
      "Invalid annotations format, please check your dataset file.\n"
     ]
    },
    {
     "name": "stderr",
     "output_type": "stream",
     "text": [
      "preparing dataloader: 100%|██████████| 134/134 [00:00<00:00, 203.13it/s]\n"
     ]
    },
    {
     "name": "stdout",
     "output_type": "stream",
     "text": [
      "2024-05-24 22:53:09,085 INFO: test data examples:\n",
      " [{'id': tensor(0), 'sentence': 'I hate writing anything negative but if your room faces Lake Ontario you will have a killer view BUT the noise of the 6 lane highway will quickly become the only thing you hear as you try to sleep.  .', 'postag': ['PRON', 'VERB', 'NOUN', 'PROPN', 'PROPN', 'PROPN', 'VERB', 'PRON', 'NOUN', 'VERB', 'NOUN', 'NOUN', 'PRON', 'NOUN', 'VERB', 'DET', 'ADJ', 'NOUN', 'PROPN', 'DET', 'NOUN', 'ADP', 'DET', 'NUM', 'PROPN', 'PROPN', 'VERB', 'PROPN', 'PROPN', 'DET', 'NOUN', 'VERB', 'PRON', 'PROPN', 'VERB', 'PRON', 'NOUN', 'ADP', 'VERB', 'PUNCT', 'PUNCT'], 'head': tensor([ 1,  1,  3,  1,  8,  4,  4,  8,  1,  1, 12, 12, 13, 14,  1, 17, 17, 14,\n",
      "        20, 20, 14, 26, 25, 22, 25, 26, 31, 26, 26, 30, 31, 14, 33, 31, 31, 36,\n",
      "        38, 38, 34,  1,  1]), 'deprel': ['nsubj', 'ROOT', 'compound:nn', 'dobj', 'acl', 'dep', 'conj', 'compound:nn', 'dobj', 'conj', 'dep', 'dep', 'nmod:poss', 'nsubj', 'conj', 'det', 'amod', 'dobj', 'compound:nn', 'det', 'dobj', 'case', 'det', 'dep', 'amod', 'nsubj', 'nmod:prep', 'dobj', 'dobj', 'det', 'advmod', 'conj', 'appos', 'dobj', 'conj', 'nmod:poss', 'dep', 'advmod', 'ccomp', 'punct', 'punct'], 'triples': [{'uid': '0-0', 'target_tags': 'I\\\\O hate\\\\O writing\\\\O anything\\\\O negative\\\\O but\\\\O if\\\\O your\\\\O room\\\\O faces\\\\O Lake\\\\O Ontario\\\\O you\\\\O will\\\\O have\\\\O a\\\\O killer\\\\O view\\\\B BUT\\\\O the\\\\O noise\\\\O of\\\\O the\\\\O 6\\\\O lane\\\\O highway\\\\O will\\\\O quickly\\\\O become\\\\O the\\\\O only\\\\O thing\\\\O you\\\\O hear\\\\O as\\\\O you\\\\O try\\\\O to\\\\O sleep.\\\\O .\\\\O', 'opinion_tags': 'I\\\\O hate\\\\O writing\\\\O anything\\\\O negative\\\\O but\\\\O if\\\\O your\\\\O room\\\\O faces\\\\O Lake\\\\O Ontario\\\\O you\\\\O will\\\\O have\\\\O a\\\\O killer\\\\B view\\\\O BUT\\\\O the\\\\O noise\\\\O of\\\\O the\\\\O 6\\\\O lane\\\\O highway\\\\O will\\\\O quickly\\\\O become\\\\O the\\\\O only\\\\O thing\\\\O you\\\\O hear\\\\O as\\\\O you\\\\O try\\\\O to\\\\O sleep.\\\\O .\\\\O', 'sentiment': 'Positive'}, {'uid': '0-1', 'target_tags': 'I\\\\O hate\\\\O writing\\\\O anything\\\\O negative\\\\O but\\\\O if\\\\O your\\\\O room\\\\O faces\\\\O Lake\\\\O Ontario\\\\O you\\\\O will\\\\O have\\\\O a\\\\O killer\\\\O view\\\\B BUT\\\\O the\\\\O noise\\\\O of\\\\O the\\\\O 6\\\\O lane\\\\O highway\\\\O will\\\\O quickly\\\\O become\\\\O the\\\\O only\\\\O thing\\\\O you\\\\O hear\\\\O as\\\\O you\\\\O try\\\\O to\\\\O sleep.\\\\O .\\\\O', 'opinion_tags': 'I\\\\O hate\\\\O writing\\\\O anything\\\\O negative\\\\B but\\\\O if\\\\O your\\\\O room\\\\O faces\\\\O Lake\\\\O Ontario\\\\O you\\\\O will\\\\O have\\\\O a\\\\O killer\\\\O view\\\\O BUT\\\\O the\\\\O noise\\\\O of\\\\O the\\\\O 6\\\\O lane\\\\O highway\\\\O will\\\\O quickly\\\\O become\\\\O the\\\\O only\\\\O thing\\\\O you\\\\O hear\\\\O as\\\\O you\\\\O try\\\\O to\\\\O sleep.\\\\O .\\\\O', 'sentiment': 'Negative'}, {'uid': '1-0', 'target_tags': 'I\\\\O hate\\\\O writing\\\\O anything\\\\O negative\\\\O but\\\\O if\\\\O your\\\\O room\\\\O faces\\\\O Lake\\\\O Ontario\\\\O you\\\\O will\\\\O have\\\\O a\\\\O killer\\\\O view\\\\O BUT\\\\O the\\\\O noise\\\\B of\\\\O the\\\\O 6\\\\O lane\\\\O highway\\\\O will\\\\O quickly\\\\O become\\\\O the\\\\O only\\\\O thing\\\\O you\\\\O hear\\\\O as\\\\O you\\\\O try\\\\O to\\\\O sleep.\\\\O .\\\\O', 'opinion_tags': 'I\\\\O hate\\\\O writing\\\\O anything\\\\O negative\\\\O but\\\\O if\\\\O your\\\\O room\\\\O faces\\\\O Lake\\\\O Ontario\\\\O you\\\\O will\\\\O have\\\\O a\\\\O killer\\\\B view\\\\O BUT\\\\O the\\\\O noise\\\\O of\\\\O the\\\\O 6\\\\O lane\\\\O highway\\\\O will\\\\O quickly\\\\O become\\\\O the\\\\O only\\\\O thing\\\\O you\\\\O hear\\\\O as\\\\O you\\\\O try\\\\O to\\\\O sleep.\\\\O .\\\\O', 'sentiment': 'Positive'}, {'uid': '1-1', 'target_tags': 'I\\\\O hate\\\\O writing\\\\O anything\\\\O negative\\\\O but\\\\O if\\\\O your\\\\O room\\\\O faces\\\\O Lake\\\\O Ontario\\\\O you\\\\O will\\\\O have\\\\O a\\\\O killer\\\\O view\\\\O BUT\\\\O the\\\\O noise\\\\B of\\\\O the\\\\O 6\\\\O lane\\\\O highway\\\\O will\\\\O quickly\\\\O become\\\\O the\\\\O only\\\\O thing\\\\O you\\\\O hear\\\\O as\\\\O you\\\\O try\\\\O to\\\\O sleep.\\\\O .\\\\O', 'opinion_tags': 'I\\\\O hate\\\\O writing\\\\O anything\\\\O negative\\\\B but\\\\O if\\\\O your\\\\O room\\\\O faces\\\\O Lake\\\\O Ontario\\\\O you\\\\O will\\\\O have\\\\O a\\\\O killer\\\\O view\\\\O BUT\\\\O the\\\\O noise\\\\O of\\\\O the\\\\O 6\\\\O lane\\\\O highway\\\\O will\\\\O quickly\\\\O become\\\\O the\\\\O only\\\\O thing\\\\O you\\\\O hear\\\\O as\\\\O you\\\\O try\\\\O to\\\\O sleep.\\\\O .\\\\O', 'sentiment': 'Negative'}]}, {'id': tensor(1), 'sentence': 'The main event is the fitness club which is huge and awesome as well as the large lobby and rooms .', 'postag': ['DET', 'NOUN', 'NOUN', 'VERB', 'NUM', 'NOUN', 'PROPN', 'NOUN', 'NOUN', 'NOUN', 'CCONJ', 'PROPN', 'VERB', 'ADV', 'VERB', 'DET', 'NOUN', 'NOUN', 'CCONJ', 'NOUN', 'PUNCT'], 'head': tensor([ 1,  2, 12, 12,  5, 11, 11,  6,  9, 11, 11, 12, 12, 14, 12, 19, 19, 19,\n",
      "        19, 14, 12]), 'deprel': ['det', 'appos', 'nsubj', 'cop', 'det', 'dep', 'dep', 'dep', 'compound:nn', 'conj', 'cc', 'nsubj', 'ROOT', 'advmod', 'conj', 'det', 'dep', 'conj', 'cc', 'dobj', 'punct'], 'triples': [{'uid': '0-0', 'target_tags': 'The\\\\O main\\\\O event\\\\O is\\\\O the\\\\O fitness\\\\B club\\\\I which\\\\O is\\\\O huge\\\\O and\\\\O awesome\\\\O as\\\\O well\\\\O as\\\\O the\\\\O large\\\\O lobby\\\\O and\\\\O rooms\\\\O .\\\\O', 'opinion_tags': 'The\\\\O main\\\\O event\\\\O is\\\\O the\\\\O fitness\\\\O club\\\\O which\\\\O is\\\\O huge\\\\B and\\\\O awesome\\\\O as\\\\O well\\\\O as\\\\O the\\\\O large\\\\O lobby\\\\O and\\\\O rooms\\\\O .\\\\O', 'sentiment': 'Positive'}, {'uid': '0-1', 'target_tags': 'The\\\\O main\\\\O event\\\\O is\\\\O the\\\\O fitness\\\\B club\\\\I which\\\\O is\\\\O huge\\\\O and\\\\O awesome\\\\O as\\\\O well\\\\O as\\\\O the\\\\O large\\\\O lobby\\\\O and\\\\O rooms\\\\O .\\\\O', 'opinion_tags': 'The\\\\O main\\\\O event\\\\O is\\\\O the\\\\O fitness\\\\O club\\\\O which\\\\O is\\\\O huge\\\\O and\\\\O awesome\\\\B as\\\\O well\\\\O as\\\\O the\\\\O large\\\\O lobby\\\\O and\\\\O rooms\\\\O .\\\\O', 'sentiment': 'Positive'}, {'uid': '0-2', 'target_tags': 'The\\\\O main\\\\O event\\\\O is\\\\O the\\\\O fitness\\\\B club\\\\I which\\\\O is\\\\O huge\\\\O and\\\\O awesome\\\\O as\\\\O well\\\\O as\\\\O the\\\\O large\\\\O lobby\\\\O and\\\\O rooms\\\\O .\\\\O', 'opinion_tags': 'The\\\\O main\\\\O event\\\\O is\\\\O the\\\\O fitness\\\\O club\\\\O which\\\\O is\\\\O huge\\\\O and\\\\O awesome\\\\O as\\\\O well\\\\O as\\\\O the\\\\O large\\\\B lobby\\\\O and\\\\O rooms\\\\O .\\\\O', 'sentiment': 'Positive'}, {'uid': '0-3', 'target_tags': 'The\\\\O main\\\\O event\\\\O is\\\\O the\\\\O fitness\\\\B club\\\\I which\\\\O is\\\\O huge\\\\O and\\\\O awesome\\\\O as\\\\O well\\\\O as\\\\O the\\\\O large\\\\O lobby\\\\O and\\\\O rooms\\\\O .\\\\O', 'opinion_tags': 'The\\\\O main\\\\O event\\\\O is\\\\O the\\\\O fitness\\\\O club\\\\O which\\\\O is\\\\O huge\\\\O and\\\\O awesome\\\\O as\\\\O well\\\\O as\\\\O the\\\\O large\\\\B lobby\\\\O and\\\\O rooms\\\\O .\\\\O', 'sentiment': 'Positive'}, {'uid': '1-0', 'target_tags': 'The\\\\O main\\\\O event\\\\O is\\\\O the\\\\O fitness\\\\B club\\\\I which\\\\O is\\\\O huge\\\\O and\\\\O awesome\\\\O as\\\\O well\\\\O as\\\\O the\\\\O large\\\\O lobby\\\\O and\\\\O rooms\\\\O .\\\\O', 'opinion_tags': 'The\\\\O main\\\\O event\\\\O is\\\\O the\\\\O fitness\\\\O club\\\\O which\\\\O is\\\\O huge\\\\B and\\\\O awesome\\\\O as\\\\O well\\\\O as\\\\O the\\\\O large\\\\O lobby\\\\O and\\\\O rooms\\\\O .\\\\O', 'sentiment': 'Positive'}, {'uid': '1-1', 'target_tags': 'The\\\\O main\\\\O event\\\\O is\\\\O the\\\\O fitness\\\\B club\\\\I which\\\\O is\\\\O huge\\\\O and\\\\O awesome\\\\O as\\\\O well\\\\O as\\\\O the\\\\O large\\\\O lobby\\\\O and\\\\O rooms\\\\O .\\\\O', 'opinion_tags': 'The\\\\O main\\\\O event\\\\O is\\\\O the\\\\O fitness\\\\O club\\\\O which\\\\O is\\\\O huge\\\\O and\\\\O awesome\\\\B as\\\\O well\\\\O as\\\\O the\\\\O large\\\\O lobby\\\\O and\\\\O rooms\\\\O .\\\\O', 'sentiment': 'Positive'}, {'uid': '1-2', 'target_tags': 'The\\\\O main\\\\O event\\\\O is\\\\O the\\\\O fitness\\\\B club\\\\I which\\\\O is\\\\O huge\\\\O and\\\\O awesome\\\\O as\\\\O well\\\\O as\\\\O the\\\\O large\\\\O lobby\\\\O and\\\\O rooms\\\\O .\\\\O', 'opinion_tags': 'The\\\\O main\\\\O event\\\\O is\\\\O the\\\\O fitness\\\\O club\\\\O which\\\\O is\\\\O huge\\\\O and\\\\O awesome\\\\O as\\\\O well\\\\O as\\\\O the\\\\O large\\\\B lobby\\\\O and\\\\O rooms\\\\O .\\\\O', 'sentiment': 'Positive'}, {'uid': '1-3', 'target_tags': 'The\\\\O main\\\\O event\\\\O is\\\\O the\\\\O fitness\\\\B club\\\\I which\\\\O is\\\\O huge\\\\O and\\\\O awesome\\\\O as\\\\O well\\\\O as\\\\O the\\\\O large\\\\O lobby\\\\O and\\\\O rooms\\\\O .\\\\O', 'opinion_tags': 'The\\\\O main\\\\O event\\\\O is\\\\O the\\\\O fitness\\\\O club\\\\O which\\\\O is\\\\O huge\\\\O and\\\\O awesome\\\\O as\\\\O well\\\\O as\\\\O the\\\\O large\\\\B lobby\\\\O and\\\\O rooms\\\\O .\\\\O', 'sentiment': 'Positive'}, {'uid': '2-0', 'target_tags': 'The\\\\O main\\\\O event\\\\O is\\\\O the\\\\O fitness\\\\O club\\\\O which\\\\O is\\\\O huge\\\\O and\\\\O awesome\\\\O as\\\\O well\\\\O as\\\\O the\\\\O large\\\\O lobby\\\\B and\\\\O rooms\\\\O .\\\\O', 'opinion_tags': 'The\\\\O main\\\\O event\\\\O is\\\\O the\\\\O fitness\\\\O club\\\\O which\\\\O is\\\\O huge\\\\B and\\\\O awesome\\\\O as\\\\O well\\\\O as\\\\O the\\\\O large\\\\O lobby\\\\O and\\\\O rooms\\\\O .\\\\O', 'sentiment': 'Positive'}, {'uid': '2-1', 'target_tags': 'The\\\\O main\\\\O event\\\\O is\\\\O the\\\\O fitness\\\\O club\\\\O which\\\\O is\\\\O huge\\\\O and\\\\O awesome\\\\O as\\\\O well\\\\O as\\\\O the\\\\O large\\\\O lobby\\\\B and\\\\O rooms\\\\O .\\\\O', 'opinion_tags': 'The\\\\O main\\\\O event\\\\O is\\\\O the\\\\O fitness\\\\O club\\\\O which\\\\O is\\\\O huge\\\\O and\\\\O awesome\\\\B as\\\\O well\\\\O as\\\\O the\\\\O large\\\\O lobby\\\\O and\\\\O rooms\\\\O .\\\\O', 'sentiment': 'Positive'}, {'uid': '2-2', 'target_tags': 'The\\\\O main\\\\O event\\\\O is\\\\O the\\\\O fitness\\\\O club\\\\O which\\\\O is\\\\O huge\\\\O and\\\\O awesome\\\\O as\\\\O well\\\\O as\\\\O the\\\\O large\\\\O lobby\\\\B and\\\\O rooms\\\\O .\\\\O', 'opinion_tags': 'The\\\\O main\\\\O event\\\\O is\\\\O the\\\\O fitness\\\\O club\\\\O which\\\\O is\\\\O huge\\\\O and\\\\O awesome\\\\O as\\\\O well\\\\O as\\\\O the\\\\O large\\\\B lobby\\\\O and\\\\O rooms\\\\O .\\\\O', 'sentiment': 'Positive'}, {'uid': '2-3', 'target_tags': 'The\\\\O main\\\\O event\\\\O is\\\\O the\\\\O fitness\\\\O club\\\\O which\\\\O is\\\\O huge\\\\O and\\\\O awesome\\\\O as\\\\O well\\\\O as\\\\O the\\\\O large\\\\O lobby\\\\B and\\\\O rooms\\\\O .\\\\O', 'opinion_tags': 'The\\\\O main\\\\O event\\\\O is\\\\O the\\\\O fitness\\\\O club\\\\O which\\\\O is\\\\O huge\\\\O and\\\\O awesome\\\\O as\\\\O well\\\\O as\\\\O the\\\\O large\\\\B lobby\\\\O and\\\\O rooms\\\\O .\\\\O', 'sentiment': 'Positive'}, {'uid': '3-0', 'target_tags': 'The\\\\O main\\\\O event\\\\O is\\\\O the\\\\O fitness\\\\O club\\\\O which\\\\O is\\\\O huge\\\\O and\\\\O awesome\\\\O as\\\\O well\\\\O as\\\\O the\\\\O large\\\\O lobby\\\\O and\\\\O rooms\\\\B .\\\\O', 'opinion_tags': 'The\\\\O main\\\\O event\\\\O is\\\\O the\\\\O fitness\\\\O club\\\\O which\\\\O is\\\\O huge\\\\B and\\\\O awesome\\\\O as\\\\O well\\\\O as\\\\O the\\\\O large\\\\O lobby\\\\O and\\\\O rooms\\\\O .\\\\O', 'sentiment': 'Positive'}, {'uid': '3-1', 'target_tags': 'The\\\\O main\\\\O event\\\\O is\\\\O the\\\\O fitness\\\\O club\\\\O which\\\\O is\\\\O huge\\\\O and\\\\O awesome\\\\O as\\\\O well\\\\O as\\\\O the\\\\O large\\\\O lobby\\\\O and\\\\O rooms\\\\B .\\\\O', 'opinion_tags': 'The\\\\O main\\\\O event\\\\O is\\\\O the\\\\O fitness\\\\O club\\\\O which\\\\O is\\\\O huge\\\\O and\\\\O awesome\\\\B as\\\\O well\\\\O as\\\\O the\\\\O large\\\\O lobby\\\\O and\\\\O rooms\\\\O .\\\\O', 'sentiment': 'Positive'}, {'uid': '3-2', 'target_tags': 'The\\\\O main\\\\O event\\\\O is\\\\O the\\\\O fitness\\\\O club\\\\O which\\\\O is\\\\O huge\\\\O and\\\\O awesome\\\\O as\\\\O well\\\\O as\\\\O the\\\\O large\\\\O lobby\\\\O and\\\\O rooms\\\\B .\\\\O', 'opinion_tags': 'The\\\\O main\\\\O event\\\\O is\\\\O the\\\\O fitness\\\\O club\\\\O which\\\\O is\\\\O huge\\\\O and\\\\O awesome\\\\O as\\\\O well\\\\O as\\\\O the\\\\O large\\\\B lobby\\\\O and\\\\O rooms\\\\O .\\\\O', 'sentiment': 'Positive'}, {'uid': '3-3', 'target_tags': 'The\\\\O main\\\\O event\\\\O is\\\\O the\\\\O fitness\\\\O club\\\\O which\\\\O is\\\\O huge\\\\O and\\\\O awesome\\\\O as\\\\O well\\\\O as\\\\O the\\\\O large\\\\O lobby\\\\O and\\\\O rooms\\\\B .\\\\O', 'opinion_tags': 'The\\\\O main\\\\O event\\\\O is\\\\O the\\\\O fitness\\\\O club\\\\O which\\\\O is\\\\O huge\\\\O and\\\\O awesome\\\\O as\\\\O well\\\\O as\\\\O the\\\\O large\\\\B lobby\\\\O and\\\\O rooms\\\\O .\\\\O', 'sentiment': 'Positive'}]}]\n",
      "2024-05-24 22:53:09,623 INFO: valid data examples:\n",
      " []\n",
      "building vocab...\n"
     ]
    },
    {
     "name": "stderr",
     "output_type": "stream",
     "text": [
      "converting data to features:  82%|████████▏ | 829/1007 [00:21<00:07, 24.42it/s]"
     ]
    },
    {
     "name": "stdout",
     "output_type": "stream",
     "text": [
      "[2024-05-24 22:53:30] (2.4.1.post1) Processing error for: The rooms were small but well equipped and furnished with good space saving measures so you never really feel claustrophobic . In terms of transportation , tourist attractions like the Tower of London and Tower Bridge are nearby , but attractions in the west / north of london will require a longer journey . Nearest tube station is about 5 10 mins walk away .. Exception: list index out of range\n"
     ]
    },
    {
     "name": "stderr",
     "output_type": "stream",
     "text": [
      "converting data to features: 100%|██████████| 1007/1007 [00:27<00:00, 36.04it/s]\n",
      "converting data to features: 100%|██████████| 133/133 [00:02<00:00, 55.02it/s]\n",
      "converting data to features: 0it [00:00, ?it/s]\n",
      "Some weights of the model checkpoint at microsoft/deberta-v3-base were not used when initializing DebertaV2Model: ['mask_predictions.classifier.weight', 'mask_predictions.dense.weight', 'mask_predictions.dense.bias', 'mask_predictions.LayerNorm.weight', 'lm_predictions.lm_head.dense.bias', 'lm_predictions.lm_head.dense.weight', 'lm_predictions.lm_head.LayerNorm.weight', 'mask_predictions.classifier.bias', 'lm_predictions.lm_head.bias', 'mask_predictions.LayerNorm.bias', 'lm_predictions.lm_head.LayerNorm.bias']\n",
      "- This IS expected if you are initializing DebertaV2Model from the checkpoint of a model trained on another task or with another architecture (e.g. initializing a BertForSequenceClassification model from a BertForPreTraining model).\n",
      "- This IS NOT expected if you are initializing DebertaV2Model from the checkpoint of a model that you expect to be exactly identical (initializing a BertForSequenceClassification model from a BertForSequenceClassification model).\n",
      "Special tokens have been added in the vocabulary, make sure the associated word embeddings are fine-tuned or trained.\n",
      "Special tokens have been added in the vocabulary, make sure the associated word embeddings are fine-tuned or trained.\n"
     ]
    },
    {
     "name": "stdout",
     "output_type": "stream",
     "text": [
      "[2024-05-24 22:53:42] (2.4.1.post1) ABSADatasetsVersion:None\t-->\tCalling Count:0\n",
      "[2024-05-24 22:53:42] (2.4.1.post1) MV:<metric_visualizer.metric_visualizer.MetricVisualizer object at 0x000001B62EEDF0D0>\t-->\tCalling Count:0\n",
      "[2024-05-24 22:53:42] (2.4.1.post1) PyABSAVersion:2.4.1.post1\t-->\tCalling Count:1\n",
      "[2024-05-24 22:53:42] (2.4.1.post1) SRD:3\t-->\tCalling Count:0\n",
      "[2024-05-24 22:53:42] (2.4.1.post1) TorchVersion:2.3.0+cu121+cuda12.1\t-->\tCalling Count:1\n",
      "[2024-05-24 22:53:42] (2.4.1.post1) TransformersVersion:4.30.0\t-->\tCalling Count:1\n",
      "[2024-05-24 22:53:42] (2.4.1.post1) adam_epsilon:1e-08\t-->\tCalling Count:1\n",
      "[2024-05-24 22:53:42] (2.4.1.post1) auto_device:True\t-->\tCalling Count:2\n",
      "[2024-05-24 22:53:42] (2.4.1.post1) batch_size:16\t-->\tCalling Count:0\n",
      "[2024-05-24 22:53:42] (2.4.1.post1) cache_dataset:False\t-->\tCalling Count:1\n",
      "[2024-05-24 22:53:42] (2.4.1.post1) checkpoint_save_mode:1\t-->\tCalling Count:3\n",
      "[2024-05-24 22:53:42] (2.4.1.post1) cross_validate_fold:-1\t-->\tCalling Count:0\n",
      "[2024-05-24 22:53:42] (2.4.1.post1) dataset_file:{'train': ['integrated_datasets\\\\aste_datasets\\\\HotelDS\\\\train.txt'], 'test': ['integrated_datasets\\\\aste_datasets\\\\HotelDS\\\\test.txt'], 'valid': []}\t-->\tCalling Count:13\n",
      "[2024-05-24 22:53:42] (2.4.1.post1) dataset_name:custom_dataset\t-->\tCalling Count:3\n",
      "[2024-05-24 22:53:42] (2.4.1.post1) dca_layer:3\t-->\tCalling Count:0\n",
      "[2024-05-24 22:53:42] (2.4.1.post1) dca_p:1\t-->\tCalling Count:0\n",
      "[2024-05-24 22:53:42] (2.4.1.post1) deep_ensemble:False\t-->\tCalling Count:0\n",
      "[2024-05-24 22:53:42] (2.4.1.post1) deprel_size:41\t-->\tCalling Count:1\n",
      "[2024-05-24 22:53:42] (2.4.1.post1) deprel_vocab:<pyabsa.tasks.AspectSentimentTripletExtraction.dataset_utils.aste_utils.VocabHelp object at 0x000001B63368E650>\t-->\tCalling Count:1140\n",
      "[2024-05-24 22:53:42] (2.4.1.post1) device:cuda:0\t-->\tCalling Count:2\n",
      "[2024-05-24 22:53:42] (2.4.1.post1) device_name:NVIDIA GeForce RTX 3080 Ti\t-->\tCalling Count:1\n",
      "[2024-05-24 22:53:42] (2.4.1.post1) dlcf_a:2\t-->\tCalling Count:0\n",
      "[2024-05-24 22:53:42] (2.4.1.post1) dropout:0.5\t-->\tCalling Count:0\n",
      "[2024-05-24 22:53:42] (2.4.1.post1) dynamic_truncate:True\t-->\tCalling Count:0\n",
      "[2024-05-24 22:53:42] (2.4.1.post1) emb_dropout:0.5\t-->\tCalling Count:1\n",
      "[2024-05-24 22:53:42] (2.4.1.post1) embed_dim:768\t-->\tCalling Count:0\n",
      "[2024-05-24 22:53:42] (2.4.1.post1) epochs:100\t-->\tCalling Count:0\n",
      "[2024-05-24 22:53:42] (2.4.1.post1) eta:1\t-->\tCalling Count:0\n",
      "[2024-05-24 22:53:42] (2.4.1.post1) eta_lr:0.1\t-->\tCalling Count:0\n",
      "[2024-05-24 22:53:42] (2.4.1.post1) evaluate_begin:0\t-->\tCalling Count:0\n",
      "[2024-05-24 22:53:42] (2.4.1.post1) from_checkpoint:None\t-->\tCalling Count:0\n",
      "[2024-05-24 22:53:42] (2.4.1.post1) gcn_dim:300\t-->\tCalling Count:6\n",
      "[2024-05-24 22:53:42] (2.4.1.post1) hidden_dim:768\t-->\tCalling Count:4\n",
      "[2024-05-24 22:53:42] (2.4.1.post1) index_to_label:OrderedDict([(0, 'N'), (1, 'B-A'), (2, 'I-A'), (3, 'A'), (4, 'B-O'), (5, 'I-O'), (6, 'O'), (7, 'Negative'), (8, 'Neutral'), (9, 'Positive')])\t-->\tCalling Count:0\n",
      "[2024-05-24 22:53:42] (2.4.1.post1) inference_model:None\t-->\tCalling Count:0\n",
      "[2024-05-24 22:53:42] (2.4.1.post1) initializer:xavier_uniform_\t-->\tCalling Count:0\n",
      "[2024-05-24 22:53:42] (2.4.1.post1) l2reg:1e-06\t-->\tCalling Count:3\n",
      "[2024-05-24 22:53:42] (2.4.1.post1) label_to_index:OrderedDict([('N', 0), ('B-A', 1), ('I-A', 2), ('A', 3), ('B-O', 4), ('I-O', 5), ('O', 6), ('Negative', 7), ('Neutral', 8), ('Positive', 9)])\t-->\tCalling Count:0\n",
      "[2024-05-24 22:53:42] (2.4.1.post1) lcf:cdw\t-->\tCalling Count:0\n",
      "[2024-05-24 22:53:42] (2.4.1.post1) learning_rate:2e-05\t-->\tCalling Count:3\n",
      "[2024-05-24 22:53:42] (2.4.1.post1) load_aug:False\t-->\tCalling Count:1\n",
      "[2024-05-24 22:53:42] (2.4.1.post1) log_step:-1\t-->\tCalling Count:0\n",
      "[2024-05-24 22:53:42] (2.4.1.post1) logger:<Logger emcgcn (INFO)>\t-->\tCalling Count:11\n",
      "[2024-05-24 22:53:42] (2.4.1.post1) lsa:False\t-->\tCalling Count:0\n",
      "[2024-05-24 22:53:42] (2.4.1.post1) max_seq_len:150\t-->\tCalling Count:52159\n",
      "[2024-05-24 22:53:42] (2.4.1.post1) model:<class 'pyabsa.tasks.AspectSentimentTripletExtraction.models.model.EMCGCN'>\t-->\tCalling Count:5\n",
      "[2024-05-24 22:53:42] (2.4.1.post1) model_name:emcgcn\t-->\tCalling Count:2\n",
      "[2024-05-24 22:53:42] (2.4.1.post1) model_path_to_save:checkpoints/aste/microsoft/deberta-v3-base\t-->\tCalling Count:0\n",
      "[2024-05-24 22:53:42] (2.4.1.post1) num_epoch:30\t-->\tCalling Count:0\n",
      "[2024-05-24 22:53:42] (2.4.1.post1) num_layers:1\t-->\tCalling Count:1\n",
      "[2024-05-24 22:53:42] (2.4.1.post1) optimizer:adamw\t-->\tCalling Count:1\n",
      "[2024-05-24 22:53:42] (2.4.1.post1) output_dim:10\t-->\tCalling Count:7\n",
      "[2024-05-24 22:53:42] (2.4.1.post1) overwrite_cache:False\t-->\tCalling Count:0\n",
      "[2024-05-24 22:53:42] (2.4.1.post1) path_to_save:checkpoints/aste/microsoft/deberta-v3-base\t-->\tCalling Count:2\n",
      "[2024-05-24 22:53:42] (2.4.1.post1) patience:99999\t-->\tCalling Count:0\n",
      "[2024-05-24 22:53:42] (2.4.1.post1) pooling:avg\t-->\tCalling Count:1\n",
      "[2024-05-24 22:53:42] (2.4.1.post1) post_size:143\t-->\tCalling Count:1\n",
      "[2024-05-24 22:53:42] (2.4.1.post1) post_vocab:<pyabsa.tasks.AspectSentimentTripletExtraction.dataset_utils.aste_utils.VocabHelp object at 0x000001B62EAF1330>\t-->\tCalling Count:1140\n",
      "[2024-05-24 22:53:42] (2.4.1.post1) postag_size:106\t-->\tCalling Count:1\n",
      "[2024-05-24 22:53:42] (2.4.1.post1) postag_vocab:<pyabsa.tasks.AspectSentimentTripletExtraction.dataset_utils.aste_utils.VocabHelp object at 0x000001B63368FDF0>\t-->\tCalling Count:1140\n",
      "[2024-05-24 22:53:42] (2.4.1.post1) pretrained_bert:microsoft/deberta-v3-base\t-->\tCalling Count:5\n",
      "[2024-05-24 22:53:42] (2.4.1.post1) relation_constraint:True\t-->\tCalling Count:0\n",
      "[2024-05-24 22:53:42] (2.4.1.post1) save_mode:1\t-->\tCalling Count:0\n",
      "[2024-05-24 22:53:42] (2.4.1.post1) seed:52\t-->\tCalling Count:7\n",
      "[2024-05-24 22:53:42] (2.4.1.post1) sigma:0.3\t-->\tCalling Count:0\n",
      "[2024-05-24 22:53:42] (2.4.1.post1) similarity_threshold:1\t-->\tCalling Count:0\n",
      "[2024-05-24 22:53:42] (2.4.1.post1) spacy_model:zh_core_web_sm\t-->\tCalling Count:6\n",
      "[2024-05-24 22:53:42] (2.4.1.post1) srd_alignment:True\t-->\tCalling Count:0\n",
      "[2024-05-24 22:53:42] (2.4.1.post1) symmetry_decoding:False\t-->\tCalling Count:0\n",
      "[2024-05-24 22:53:42] (2.4.1.post1) syn_post_vocab:<pyabsa.tasks.AspectSentimentTripletExtraction.dataset_utils.aste_utils.VocabHelp object at 0x000001B63368E470>\t-->\tCalling Count:1142\n",
      "[2024-05-24 22:53:42] (2.4.1.post1) synpost_size:7\t-->\tCalling Count:1\n",
      "[2024-05-24 22:53:42] (2.4.1.post1) task:triplet\t-->\tCalling Count:36606\n",
      "[2024-05-24 22:53:42] (2.4.1.post1) task_code:ASTE\t-->\tCalling Count:2\n",
      "[2024-05-24 22:53:42] (2.4.1.post1) task_name:Aspect Sentiment Triple Extraction\t-->\tCalling Count:0\n",
      "[2024-05-24 22:53:42] (2.4.1.post1) token_vocab:<pyabsa.tasks.AspectSentimentTripletExtraction.dataset_utils.aste_utils.VocabHelp object at 0x000001B6335F1A80>\t-->\tCalling Count:0\n",
      "[2024-05-24 22:53:42] (2.4.1.post1) tokenizer:<pyabsa.framework.tokenizer_class.tokenizer_class.PretrainedTokenizer object at 0x000001B62EF280A0>\t-->\tCalling Count:0\n",
      "[2024-05-24 22:53:42] (2.4.1.post1) use_amp:True\t-->\tCalling Count:1\n",
      "[2024-05-24 22:53:42] (2.4.1.post1) use_bert_spc:True\t-->\tCalling Count:0\n",
      "[2024-05-24 22:53:42] (2.4.1.post1) use_syntax_based_SRD:False\t-->\tCalling Count:0\n",
      "[2024-05-24 22:53:42] (2.4.1.post1) warmup_step:-1\t-->\tCalling Count:0\n",
      "[2024-05-24 22:53:42] (2.4.1.post1) weight_decay:0.0\t-->\tCalling Count:0\n",
      "[2024-05-24 22:53:42] (2.4.1.post1) window:lr\t-->\tCalling Count:0\n",
      "2024-05-24 22:53:42,863 INFO: ***** Running training for Aspect Sentiment Triple Extraction *****\n",
      "2024-05-24 22:53:42,863 INFO: Training set examples = 1006\n",
      "2024-05-24 22:53:42,864 INFO: Test set examples = 133\n",
      "2024-05-24 22:53:42,864 INFO: Total params = 185532578, Trainable params = 185532578, Non-trainable params = 0\n",
      "2024-05-24 22:53:42,864 INFO: Batch size = 16\n",
      "2024-05-24 22:53:42,865 INFO: Num steps = 1890\n"
     ]
    },
    {
     "name": "stderr",
     "output_type": "stream",
     "text": [
      "Epoch:  0 | Smooth Loss: 0.4240: 100%|██████████| 63/63 [00:25<00:00,  2.45it/s, Dev F1:6.92(max:6.92)]\n",
      "Epoch:  1 | Smooth Loss: 0.3446: 100%|██████████| 63/63 [00:20<00:00,  3.00it/s, Dev F1:45.41(max:45.41)]\n",
      "Epoch:  2 | Smooth Loss: 0.3053: 100%|██████████| 63/63 [00:22<00:00,  2.79it/s, Dev F1:50.08(max:50.08)]\n",
      "Epoch:  3 | Smooth Loss: 0.2772: 100%|██████████| 63/63 [00:17<00:00,  3.54it/s, Dev F1:47.07(max:50.08)]\n",
      "Epoch:  4 | Smooth Loss: 0.2568: 100%|██████████| 63/63 [00:20<00:00,  3.15it/s, Dev F1:49.01(max:50.08)]\n",
      "Epoch:  5 | Smooth Loss: 0.2416: 100%|██████████| 63/63 [00:18<00:00,  3.46it/s, Dev F1:53.33(max:53.33)]\n",
      "Epoch:  6 | Smooth Loss: 0.2290: 100%|██████████| 63/63 [00:21<00:00,  2.87it/s, Dev F1:61.81(max:61.81)]\n",
      "Epoch:  7 | Smooth Loss: 0.2176: 100%|██████████| 63/63 [00:22<00:00,  2.77it/s, Dev F1:67.84(max:67.84)]\n",
      "Epoch:  8 | Smooth Loss: 0.2071: 100%|██████████| 63/63 [00:22<00:00,  2.78it/s, Dev F1:64.20(max:67.84)]\n",
      "Epoch:  9 | Smooth Loss: 0.1978: 100%|██████████| 63/63 [00:22<00:00,  2.75it/s, Dev F1:63.40(max:67.84)]\n",
      "Epoch: 10 | Smooth Loss: 0.1897: 100%|██████████| 63/63 [00:23<00:00,  2.68it/s, Dev F1:64.75(max:67.84)]\n",
      "Epoch: 11 | Smooth Loss: 0.1823: 100%|██████████| 63/63 [00:22<00:00,  2.80it/s, Dev F1:59.86(max:67.84)]\n",
      "Epoch: 12 | Smooth Loss: 0.1759: 100%|██████████| 63/63 [00:21<00:00,  2.91it/s, Dev F1:66.67(max:67.84)]\n",
      "Epoch: 13 | Smooth Loss: 0.1702: 100%|██████████| 63/63 [00:21<00:00,  2.87it/s, Dev F1:60.96(max:67.84)]\n",
      "Epoch: 14 | Smooth Loss: 0.1650: 100%|██████████| 63/63 [00:25<00:00,  2.45it/s, Dev F1:62.50(max:67.84)]\n",
      "Epoch: 15 | Smooth Loss: 0.1604: 100%|██████████| 63/63 [00:25<00:00,  2.43it/s, Dev F1:62.08(max:67.84)]\n",
      "Epoch: 16 | Smooth Loss: 0.1560: 100%|██████████| 63/63 [00:26<00:00,  2.38it/s, Dev F1:57.68(max:67.84)]\n",
      "Epoch: 17 | Smooth Loss: 0.1519: 100%|██████████| 63/63 [00:25<00:00,  2.47it/s, Dev F1:60.48(max:67.84)]\n",
      "Epoch: 18 | Smooth Loss: 0.1483: 100%|██████████| 63/63 [00:24<00:00,  2.59it/s, Dev F1:63.44(max:67.84)]\n",
      "Epoch: 19 | Smooth Loss: 0.1448: 100%|██████████| 63/63 [00:22<00:00,  2.83it/s, Dev F1:66.03(max:67.84)]\n",
      "Epoch: 20 | Smooth Loss: 0.1417: 100%|██████████| 63/63 [00:21<00:00,  2.91it/s, Dev F1:62.60(max:67.84)]\n",
      "Epoch: 21 | Smooth Loss: 0.1387: 100%|██████████| 63/63 [00:25<00:00,  2.50it/s, Dev F1:64.83(max:67.84)]\n",
      "Epoch: 22 | Smooth Loss: 0.1358: 100%|██████████| 63/63 [00:25<00:00,  2.46it/s, Dev F1:68.10(max:68.10)]\n",
      "Epoch: 23 | Smooth Loss: 0.1329: 100%|██████████| 63/63 [00:24<00:00,  2.52it/s, Dev F1:68.29(max:68.29)]\n",
      "Epoch: 24 | Smooth Loss: 0.1302: 100%|██████████| 63/63 [00:22<00:00,  2.76it/s, Dev F1:70.00(max:70.00)]\n",
      "Epoch: 25 | Smooth Loss: 0.1276: 100%|██████████| 63/63 [00:21<00:00,  2.93it/s, Dev F1:68.49(max:70.00)]\n",
      "Epoch: 26 | Smooth Loss: 0.1251: 100%|██████████| 63/63 [00:25<00:00,  2.48it/s, Dev F1:67.34(max:70.00)]\n",
      "Epoch: 27 | Smooth Loss: 0.1228: 100%|██████████| 63/63 [00:27<00:00,  2.33it/s, Dev F1:69.07(max:70.00)]\n",
      "Epoch: 28 | Smooth Loss: 0.1206: 100%|██████████| 63/63 [00:29<00:00,  2.15it/s, Dev F1:62.74(max:70.00)]\n",
      "Epoch: 29 | Smooth Loss: 0.1187: 100%|██████████| 63/63 [00:25<00:00,  2.45it/s, Dev F1:67.35(max:70.00)]\n",
      "c:\\Users\\Dini\\anaconda3\\envs\\tf-gpu\\lib\\site-packages\\metric_visualizer\\utils.py:31: RuntimeWarning: Precision loss occurred in moment calculation due to catastrophic cancellation. This occurs when the data are nearly identical. Results may be unreliable.\n",
      "  self.skewness = stats.skew(self.data, keepdims=True)\n"
     ]
    },
    {
     "name": "stdout",
     "output_type": "stream",
     "text": [
      "[2024-05-24 23:05:27] (2.4.1.post1) Loading best model: checkpoints/aste/microsoft/deberta-v3-base/emcgcn_custom_dataset_f1_70.0/ and evaluating on test set \n",
      "2024-05-24 23:05:28,833 INFO: \n",
      "-------------------------------------------------------------- Raw Metric Records --------------------------------------------------------------\n",
      "╒═══════════════════════════╤═════════════════════════════════════════════════╤══════════╤═══════════╤══════════╤═══════╤═══════╤═══════╤═══════╕\n",
      "│ Metric                    │ Trial                                           │ Values   │  Average  │  Median  │  Std  │  IQR  │  Min  │  Max  │\n",
      "╞═══════════════════════════╪═════════════════════════════════════════════════╪══════════╪═══════════╪══════════╪═══════╪═══════╪═══════╪═══════╡\n",
      "│ Max-Test-F1 w/o Valid Set │ emcgcn-custom_dataset-microsoft/deberta-v3-base │ [70.0]   │    70     │    70    │   0   │   0   │  70   │  70   │\n",
      "├───────────────────────────┼─────────────────────────────────────────────────┼──────────┼───────────┼──────────┼───────┼───────┼───────┼───────┤\n",
      "│ Max-Test-F1               │ emcgcn-custom_dataset-microsoft/deberta-v3-base │ [70.0]   │    70     │    70    │   0   │   0   │  70   │  70   │\n",
      "╘═══════════════════════════╧═════════════════════════════════════════════════╧══════════╧═══════════╧══════════╧═══════╧═══════╧═══════╧═══════╛\n",
      "------------------------------------------------ https://github.com/yangheng95/metric_visualizer ------------------------------------------------\n",
      "\n"
     ]
    },
    {
     "name": "stderr",
     "output_type": "stream",
     "text": [
      "c:\\Users\\Dini\\anaconda3\\envs\\tf-gpu\\lib\\site-packages\\pyabsa\\framework\\trainer_class\\trainer_template.py:250: ResourceWarning: unclosed file <_io.TextIOWrapper name='c:\\\\Users\\\\Dini\\\\Desktop\\\\tripadvisor.com - Copy\\\\logs\\\\emcgcn_20240524 225247\\\\trainer.log' mode='a' encoding='utf8'>\n",
      "  self.config.logger.removeHandler(self.config.logger.handlers[0])\n",
      "ResourceWarning: Enable tracemalloc to get the object allocation traceback\n"
     ]
    },
    {
     "name": "stdout",
     "output_type": "stream",
     "text": [
      "[2024-05-24 23:05:32] (2.4.1.post1) Load sentiment classifier from checkpoints/aste/microsoft/deberta-v3-base/emcgcn_custom_dataset_f1_70.0/\n",
      "[2024-05-24 23:05:32] (2.4.1.post1) config: checkpoints/aste/microsoft/deberta-v3-base/emcgcn_custom_dataset_f1_70.0/emcgcn.config\n",
      "[2024-05-24 23:05:32] (2.4.1.post1) state_dict: checkpoints/aste/microsoft/deberta-v3-base/emcgcn_custom_dataset_f1_70.0/emcgcn.state_dict\n",
      "[2024-05-24 23:05:32] (2.4.1.post1) model: None\n",
      "[2024-05-24 23:05:32] (2.4.1.post1) tokenizer: checkpoints/aste/microsoft/deberta-v3-base/emcgcn_custom_dataset_f1_70.0/emcgcn.tokenizer\n",
      "[2024-05-24 23:05:32] (2.4.1.post1) Set Model Device: cuda:0\n",
      "[2024-05-24 23:05:32] (2.4.1.post1) Device Name: NVIDIA GeForce RTX 3080 Ti\n"
     ]
    },
    {
     "name": "stderr",
     "output_type": "stream",
     "text": [
      "Some weights of the model checkpoint at microsoft/deberta-v3-base were not used when initializing DebertaV2Model: ['mask_predictions.classifier.weight', 'mask_predictions.dense.weight', 'mask_predictions.dense.bias', 'mask_predictions.LayerNorm.weight', 'lm_predictions.lm_head.dense.bias', 'lm_predictions.lm_head.dense.weight', 'lm_predictions.lm_head.LayerNorm.weight', 'mask_predictions.classifier.bias', 'lm_predictions.lm_head.bias', 'mask_predictions.LayerNorm.bias', 'lm_predictions.lm_head.LayerNorm.bias']\n",
      "- This IS expected if you are initializing DebertaV2Model from the checkpoint of a model trained on another task or with another architecture (e.g. initializing a BertForSequenceClassification model from a BertForPreTraining model).\n",
      "- This IS NOT expected if you are initializing DebertaV2Model from the checkpoint of a model that you expect to be exactly identical (initializing a BertForSequenceClassification model from a BertForSequenceClassification model).\n",
      "Special tokens have been added in the vocabulary, make sure the associated word embeddings are fine-tuned or trained.\n",
      "Special tokens have been added in the vocabulary, make sure the associated word embeddings are fine-tuned or trained.\n"
     ]
    }
   ],
   "source": [
    "# -*- coding: utf-8 -*-\n",
    "# file: trainer.py\n",
    "# time: 2021/5/26 0026\n",
    "# author: YANG, HENG <hy345@exeter.ac.uk> (杨恒)\n",
    "# github: https://github.com/yangheng95\n",
    "# Copyright (C) 2021. All Rights Reserved.\n",
    "\n",
    "########################################################################################################################\n",
    "#                    train and evaluate on your own apc_datasets (need train and test apc_datasets)                    #\n",
    "########################################################################################################################\n",
    "\n",
    "from pyabsa import (\n",
    "    ModelSaveOption,\n",
    "    DeviceTypeOption,\n",
    "    DatasetItem,\n",
    ")\n",
    "pretrained_bert = \"microsoft/deberta-v3-base\"\n",
    "from pyabsa import AspectSentimentTripletExtraction as ASTE\n",
    "\n",
    "config = ASTE.ASTEConfigManager.get_aste_config_english()\n",
    "config.max_seq_len = 150\n",
    "config.log_step = -1\n",
    "# config.pretrained_bert = \"microsoft/mdeberta-v3-base\"\n",
    "config.pretrained_bert = \"microsoft/deberta-v3-base\"\n",
    "# config.pretrained_bert = \"bert-base-chinese\"\n",
    "config.num_epoch = 30\n",
    "config.learning_rate = 2e-5\n",
    "# config.cache_dataset = False\n",
    "config.use_amp = True\n",
    "config.cache_dataset = False\n",
    "config.spacy_model = \"zh_core_web_sm\"\n",
    "\n",
    "dataset = \"HotelDS\"\n",
    "trainer = ASTE.ASTETrainer(\n",
    "    config=config,\n",
    "    dataset=dataset,\n",
    "    # from_checkpoint='english',\n",
    "    checkpoint_save_mode=ModelSaveOption.SAVE_MODEL_STATE_DICT,\n",
    "    # checkpoint_save_mode=ModelSaveOption.DO_NOT_SAVE_MODEL,\n",
    "    path_to_save=f\"checkpoints/aste/{pretrained_bert}\",\n",
    "    auto_device=True,\n",
    ")\n",
    "triplet_extractor = trainer.load_trained_model()\n"
   ]
  },
  {
   "cell_type": "code",
   "execution_count": 2,
   "metadata": {},
   "outputs": [
    {
     "name": "stdout",
     "output_type": "stream",
     "text": [
      "[2024-05-24 23:05:35] (2.4.1.post1) Set Model Device: cuda:0\n",
      "[2024-05-24 23:05:35] (2.4.1.post1) Device Name: NVIDIA GeForce RTX 3080 Ti\n",
      "2024-05-24 23:05:36,058 INFO: PyABSA version: 2.4.1.post1\n",
      "2024-05-24 23:05:36,059 INFO: Transformers version: 4.30.0\n",
      "2024-05-24 23:05:36,059 INFO: Torch version: 2.3.0+cu121+cuda12.1\n",
      "2024-05-24 23:05:36,059 INFO: Device: NVIDIA GeForce RTX 3080 Ti\n",
      "2024-05-24 23:05:36,063 INFO: Searching dataset HotelDS in local disk\n",
      "2024-05-24 23:05:36,099 INFO: You can set load_aug=True in a trainer to augment your dataset (English only yet) and improve performance.\n",
      "2024-05-24 23:05:36,100 INFO: Please use a new folder to perform new text augment if the former augment in integrated_datasets\\aste_datasets\\HotelDS errored unexpectedly\n",
      "[2024-05-24 23:05:36] (2.4.1.post1) \u001b[33mUse torch.AMP for training! Please disable it if you encounter convergence problems.\u001b[0m\n"
     ]
    },
    {
     "name": "stderr",
     "output_type": "stream",
     "text": [
      "Using eos_token, but it is not set yet.\n"
     ]
    },
    {
     "name": "stdout",
     "output_type": "stream",
     "text": [
      "2024-05-24 23:05:36,976 INFO: Load dataset from integrated_datasets\\aste_datasets\\HotelDS\\train.txt\n"
     ]
    },
    {
     "name": "stderr",
     "output_type": "stream",
     "text": [
      "preparing dataloader:   1%|▏         | 15/1014 [00:00<00:06, 143.53it/s]"
     ]
    },
    {
     "name": "stdout",
     "output_type": "stream",
     "text": [
      "Invalid annotations format, please check your dataset file.\n"
     ]
    },
    {
     "name": "stderr",
     "output_type": "stream",
     "text": [
      "preparing dataloader:  16%|█▌        | 159/1014 [00:00<00:04, 195.45it/s]"
     ]
    },
    {
     "name": "stdout",
     "output_type": "stream",
     "text": [
      "Invalid annotations format, please check your dataset file.\n"
     ]
    },
    {
     "name": "stderr",
     "output_type": "stream",
     "text": [
      "preparing dataloader:  20%|█▉        | 202/1014 [00:01<00:04, 197.33it/s]"
     ]
    },
    {
     "name": "stdout",
     "output_type": "stream",
     "text": [
      "Invalid annotations format, please check your dataset file.\n"
     ]
    },
    {
     "name": "stderr",
     "output_type": "stream",
     "text": [
      "preparing dataloader:  34%|███▍      | 348/1014 [00:01<00:03, 197.00it/s]"
     ]
    },
    {
     "name": "stdout",
     "output_type": "stream",
     "text": [
      "invalid syntax (<string>, line 1)\n"
     ]
    },
    {
     "name": "stderr",
     "output_type": "stream",
     "text": [
      "preparing dataloader:  60%|█████▉    | 607/1014 [00:03<00:01, 205.24it/s]"
     ]
    },
    {
     "name": "stdout",
     "output_type": "stream",
     "text": [
      "We stayed 4 nights at Hotel Barocco in Rome and it was PERFECt ! The front desk staff could not be more helpful    helped us find Covid testing and airport transfers and reservations / cancelations for dinners . They were so pleasant and charming . Had a drink in their bar one night and spent a long time talking to the bar staff and manager    so interesting .\n",
      "We stayed 4 nights at Hotel Barocco in Rome and it was PERFECt ! The front desk staff could not be more helpful -- helped us find Covid testing and airport transfers and reservations / cancelations for dinners . They were so pleasant and charming . Had a drink in their bar one night and spent a long time talking to the bar staff and manager -- so interesting .####[([5], [12], 'POS'), ([15, 16, 17], [22], 'POS'), ([15, 16, 17], [42], 'POS'), ([15, 16, 17], [44], 'POS'), ([62, 63], [68], 'POS'), ([65], [68], 'POS')]\n",
      "[([5], [12], 'POS'), ([15, 16, 17], [22], 'POS'), ([15, 16, 17], [42], 'POS'), ([15, 16, 17], [44], 'POS'), ([62, 63], [68], 'POS'), ([65], [68], 'POS')]\n"
     ]
    },
    {
     "name": "stderr",
     "output_type": "stream",
     "text": [
      "preparing dataloader: 100%|██████████| 1014/1014 [00:05<00:00, 173.73it/s]\n"
     ]
    },
    {
     "name": "stdout",
     "output_type": "stream",
     "text": [
      "2024-05-24 23:05:43,417 INFO: train data examples:\n",
      " [{'id': tensor(0), 'sentence': 'aExcellent staff , location is excellent .', 'postag': ['PUNCT', 'VERB', 'PUNCT', 'NOUN', 'NOUN', 'NOUN', 'PUNCT'], 'head': tensor([1, 1, 1, 4, 1, 1, 1]), 'deprel': ['dep', 'ROOT', 'punct', 'nsubj', 'dep', 'conj', 'punct'], 'triples': [{'uid': '0-0', 'target_tags': 'aExcellent\\\\O staff\\\\B ,\\\\O location\\\\O is\\\\O excellent\\\\O .\\\\O', 'opinion_tags': 'aExcellent\\\\B staff\\\\O ,\\\\O location\\\\O is\\\\O excellent\\\\O .\\\\O', 'sentiment': 'Positive'}, {'uid': '0-1', 'target_tags': 'aExcellent\\\\O staff\\\\B ,\\\\O location\\\\O is\\\\O excellent\\\\O .\\\\O', 'opinion_tags': 'aExcellent\\\\O staff\\\\O ,\\\\O location\\\\O is\\\\O excellent\\\\B .\\\\O', 'sentiment': 'Positive'}, {'uid': '1-0', 'target_tags': 'aExcellent\\\\O staff\\\\O ,\\\\O location\\\\B is\\\\O excellent\\\\O .\\\\O', 'opinion_tags': 'aExcellent\\\\B staff\\\\O ,\\\\O location\\\\O is\\\\O excellent\\\\O .\\\\O', 'sentiment': 'Positive'}, {'uid': '1-1', 'target_tags': 'aExcellent\\\\O staff\\\\O ,\\\\O location\\\\B is\\\\O excellent\\\\O .\\\\O', 'opinion_tags': 'aExcellent\\\\O staff\\\\O ,\\\\O location\\\\O is\\\\O excellent\\\\B .\\\\O', 'sentiment': 'Positive'}]}, {'id': tensor(1), 'sentence': 'Our room was small and no door to bathroom .', 'postag': ['NOUN', 'NOUN', 'NOUN', 'PROPN', 'CCONJ', 'ADJ', 'NOUN', 'ADP', 'NOUN', 'PUNCT'], 'head': tensor([1, 2, 3, 8, 8, 6, 4, 8, 8, 8]), 'deprel': ['compound:nn', 'compound:nn', 'appos', 'conj', 'cc', 'amod', 'dep', 'case', 'ROOT', 'punct'], 'triples': [{'uid': '0-0', 'target_tags': 'Our\\\\O room\\\\B was\\\\O small\\\\O and\\\\O no\\\\O door\\\\O to\\\\O bathroom\\\\O .\\\\O', 'opinion_tags': 'Our\\\\O room\\\\O was\\\\O small\\\\B and\\\\O no\\\\O door\\\\O to\\\\O bathroom\\\\O .\\\\O', 'sentiment': 'Negative'}, {'uid': '0-1', 'target_tags': 'Our\\\\O room\\\\B was\\\\O small\\\\O and\\\\O no\\\\O door\\\\O to\\\\O bathroom\\\\O .\\\\O', 'opinion_tags': 'Our\\\\O room\\\\O was\\\\O small\\\\O and\\\\O no\\\\B door\\\\I to\\\\O bathroom\\\\O .\\\\O', 'sentiment': 'Negative'}, {'uid': '1-0', 'target_tags': 'Our\\\\O room\\\\O was\\\\O small\\\\O and\\\\O no\\\\O door\\\\O to\\\\O bathroom\\\\B .\\\\O', 'opinion_tags': 'Our\\\\O room\\\\O was\\\\O small\\\\B and\\\\O no\\\\O door\\\\O to\\\\O bathroom\\\\O .\\\\O', 'sentiment': 'Negative'}, {'uid': '1-1', 'target_tags': 'Our\\\\O room\\\\O was\\\\O small\\\\O and\\\\O no\\\\O door\\\\O to\\\\O bathroom\\\\B .\\\\O', 'opinion_tags': 'Our\\\\O room\\\\O was\\\\O small\\\\O and\\\\O no\\\\B door\\\\I to\\\\O bathroom\\\\O .\\\\O', 'sentiment': 'Negative'}]}]\n",
      "2024-05-24 23:05:43,961 INFO: Load dataset from integrated_datasets\\aste_datasets\\HotelDS\\test.txt\n"
     ]
    },
    {
     "name": "stderr",
     "output_type": "stream",
     "text": [
      "preparing dataloader:  61%|██████    | 82/134 [00:00<00:00, 181.21it/s]"
     ]
    },
    {
     "name": "stdout",
     "output_type": "stream",
     "text": [
      "Invalid annotations format, please check your dataset file.\n"
     ]
    },
    {
     "name": "stderr",
     "output_type": "stream",
     "text": [
      "preparing dataloader: 100%|██████████| 134/134 [00:00<00:00, 198.83it/s]"
     ]
    },
    {
     "name": "stdout",
     "output_type": "stream",
     "text": [
      "2024-05-24 23:05:44,705 INFO: test data examples:\n",
      " [{'id': tensor(0), 'sentence': 'I hate writing anything negative but if your room faces Lake Ontario you will have a killer view BUT the noise of the 6 lane highway will quickly become the only thing you hear as you try to sleep.  .', 'postag': ['PRON', 'VERB', 'NOUN', 'PROPN', 'PROPN', 'PROPN', 'VERB', 'PRON', 'NOUN', 'VERB', 'NOUN', 'NOUN', 'PRON', 'NOUN', 'VERB', 'DET', 'ADJ', 'NOUN', 'PROPN', 'DET', 'NOUN', 'ADP', 'DET', 'NUM', 'PROPN', 'PROPN', 'VERB', 'PROPN', 'PROPN', 'DET', 'NOUN', 'VERB', 'PRON', 'PROPN', 'VERB', 'PRON', 'NOUN', 'ADP', 'VERB', 'PUNCT', 'PUNCT'], 'head': tensor([ 1,  1,  3,  1,  8,  4,  4,  8,  1,  1, 12, 12, 13, 14,  1, 17, 17, 14,\n",
      "        20, 20, 14, 26, 25, 22, 25, 26, 31, 26, 26, 30, 31, 14, 33, 31, 31, 36,\n",
      "        38, 38, 34,  1,  1]), 'deprel': ['nsubj', 'ROOT', 'compound:nn', 'dobj', 'acl', 'dep', 'conj', 'compound:nn', 'dobj', 'conj', 'dep', 'dep', 'nmod:poss', 'nsubj', 'conj', 'det', 'amod', 'dobj', 'compound:nn', 'det', 'dobj', 'case', 'det', 'dep', 'amod', 'nsubj', 'nmod:prep', 'dobj', 'dobj', 'det', 'advmod', 'conj', 'appos', 'dobj', 'conj', 'nmod:poss', 'dep', 'advmod', 'ccomp', 'punct', 'punct'], 'triples': [{'uid': '0-0', 'target_tags': 'I\\\\O hate\\\\O writing\\\\O anything\\\\O negative\\\\O but\\\\O if\\\\O your\\\\O room\\\\O faces\\\\O Lake\\\\O Ontario\\\\O you\\\\O will\\\\O have\\\\O a\\\\O killer\\\\O view\\\\B BUT\\\\O the\\\\O noise\\\\O of\\\\O the\\\\O 6\\\\O lane\\\\O highway\\\\O will\\\\O quickly\\\\O become\\\\O the\\\\O only\\\\O thing\\\\O you\\\\O hear\\\\O as\\\\O you\\\\O try\\\\O to\\\\O sleep.\\\\O .\\\\O', 'opinion_tags': 'I\\\\O hate\\\\O writing\\\\O anything\\\\O negative\\\\O but\\\\O if\\\\O your\\\\O room\\\\O faces\\\\O Lake\\\\O Ontario\\\\O you\\\\O will\\\\O have\\\\O a\\\\O killer\\\\B view\\\\O BUT\\\\O the\\\\O noise\\\\O of\\\\O the\\\\O 6\\\\O lane\\\\O highway\\\\O will\\\\O quickly\\\\O become\\\\O the\\\\O only\\\\O thing\\\\O you\\\\O hear\\\\O as\\\\O you\\\\O try\\\\O to\\\\O sleep.\\\\O .\\\\O', 'sentiment': 'Positive'}, {'uid': '0-1', 'target_tags': 'I\\\\O hate\\\\O writing\\\\O anything\\\\O negative\\\\O but\\\\O if\\\\O your\\\\O room\\\\O faces\\\\O Lake\\\\O Ontario\\\\O you\\\\O will\\\\O have\\\\O a\\\\O killer\\\\O view\\\\B BUT\\\\O the\\\\O noise\\\\O of\\\\O the\\\\O 6\\\\O lane\\\\O highway\\\\O will\\\\O quickly\\\\O become\\\\O the\\\\O only\\\\O thing\\\\O you\\\\O hear\\\\O as\\\\O you\\\\O try\\\\O to\\\\O sleep.\\\\O .\\\\O', 'opinion_tags': 'I\\\\O hate\\\\O writing\\\\O anything\\\\O negative\\\\B but\\\\O if\\\\O your\\\\O room\\\\O faces\\\\O Lake\\\\O Ontario\\\\O you\\\\O will\\\\O have\\\\O a\\\\O killer\\\\O view\\\\O BUT\\\\O the\\\\O noise\\\\O of\\\\O the\\\\O 6\\\\O lane\\\\O highway\\\\O will\\\\O quickly\\\\O become\\\\O the\\\\O only\\\\O thing\\\\O you\\\\O hear\\\\O as\\\\O you\\\\O try\\\\O to\\\\O sleep.\\\\O .\\\\O', 'sentiment': 'Negative'}, {'uid': '1-0', 'target_tags': 'I\\\\O hate\\\\O writing\\\\O anything\\\\O negative\\\\O but\\\\O if\\\\O your\\\\O room\\\\O faces\\\\O Lake\\\\O Ontario\\\\O you\\\\O will\\\\O have\\\\O a\\\\O killer\\\\O view\\\\O BUT\\\\O the\\\\O noise\\\\B of\\\\O the\\\\O 6\\\\O lane\\\\O highway\\\\O will\\\\O quickly\\\\O become\\\\O the\\\\O only\\\\O thing\\\\O you\\\\O hear\\\\O as\\\\O you\\\\O try\\\\O to\\\\O sleep.\\\\O .\\\\O', 'opinion_tags': 'I\\\\O hate\\\\O writing\\\\O anything\\\\O negative\\\\O but\\\\O if\\\\O your\\\\O room\\\\O faces\\\\O Lake\\\\O Ontario\\\\O you\\\\O will\\\\O have\\\\O a\\\\O killer\\\\B view\\\\O BUT\\\\O the\\\\O noise\\\\O of\\\\O the\\\\O 6\\\\O lane\\\\O highway\\\\O will\\\\O quickly\\\\O become\\\\O the\\\\O only\\\\O thing\\\\O you\\\\O hear\\\\O as\\\\O you\\\\O try\\\\O to\\\\O sleep.\\\\O .\\\\O', 'sentiment': 'Positive'}, {'uid': '1-1', 'target_tags': 'I\\\\O hate\\\\O writing\\\\O anything\\\\O negative\\\\O but\\\\O if\\\\O your\\\\O room\\\\O faces\\\\O Lake\\\\O Ontario\\\\O you\\\\O will\\\\O have\\\\O a\\\\O killer\\\\O view\\\\O BUT\\\\O the\\\\O noise\\\\B of\\\\O the\\\\O 6\\\\O lane\\\\O highway\\\\O will\\\\O quickly\\\\O become\\\\O the\\\\O only\\\\O thing\\\\O you\\\\O hear\\\\O as\\\\O you\\\\O try\\\\O to\\\\O sleep.\\\\O .\\\\O', 'opinion_tags': 'I\\\\O hate\\\\O writing\\\\O anything\\\\O negative\\\\B but\\\\O if\\\\O your\\\\O room\\\\O faces\\\\O Lake\\\\O Ontario\\\\O you\\\\O will\\\\O have\\\\O a\\\\O killer\\\\O view\\\\O BUT\\\\O the\\\\O noise\\\\O of\\\\O the\\\\O 6\\\\O lane\\\\O highway\\\\O will\\\\O quickly\\\\O become\\\\O the\\\\O only\\\\O thing\\\\O you\\\\O hear\\\\O as\\\\O you\\\\O try\\\\O to\\\\O sleep.\\\\O .\\\\O', 'sentiment': 'Negative'}]}, {'id': tensor(1), 'sentence': 'The main event is the fitness club which is huge and awesome as well as the large lobby and rooms .', 'postag': ['DET', 'NOUN', 'NOUN', 'VERB', 'NUM', 'NOUN', 'PROPN', 'NOUN', 'NOUN', 'NOUN', 'CCONJ', 'PROPN', 'VERB', 'ADV', 'VERB', 'DET', 'NOUN', 'NOUN', 'CCONJ', 'NOUN', 'PUNCT'], 'head': tensor([ 1,  2, 12, 12,  5, 11, 11,  6,  9, 11, 11, 12, 12, 14, 12, 19, 19, 19,\n",
      "        19, 14, 12]), 'deprel': ['det', 'appos', 'nsubj', 'cop', 'det', 'dep', 'dep', 'dep', 'compound:nn', 'conj', 'cc', 'nsubj', 'ROOT', 'advmod', 'conj', 'det', 'dep', 'conj', 'cc', 'dobj', 'punct'], 'triples': [{'uid': '0-0', 'target_tags': 'The\\\\O main\\\\O event\\\\O is\\\\O the\\\\O fitness\\\\B club\\\\I which\\\\O is\\\\O huge\\\\O and\\\\O awesome\\\\O as\\\\O well\\\\O as\\\\O the\\\\O large\\\\O lobby\\\\O and\\\\O rooms\\\\O .\\\\O', 'opinion_tags': 'The\\\\O main\\\\O event\\\\O is\\\\O the\\\\O fitness\\\\O club\\\\O which\\\\O is\\\\O huge\\\\B and\\\\O awesome\\\\O as\\\\O well\\\\O as\\\\O the\\\\O large\\\\O lobby\\\\O and\\\\O rooms\\\\O .\\\\O', 'sentiment': 'Positive'}, {'uid': '0-1', 'target_tags': 'The\\\\O main\\\\O event\\\\O is\\\\O the\\\\O fitness\\\\B club\\\\I which\\\\O is\\\\O huge\\\\O and\\\\O awesome\\\\O as\\\\O well\\\\O as\\\\O the\\\\O large\\\\O lobby\\\\O and\\\\O rooms\\\\O .\\\\O', 'opinion_tags': 'The\\\\O main\\\\O event\\\\O is\\\\O the\\\\O fitness\\\\O club\\\\O which\\\\O is\\\\O huge\\\\O and\\\\O awesome\\\\B as\\\\O well\\\\O as\\\\O the\\\\O large\\\\O lobby\\\\O and\\\\O rooms\\\\O .\\\\O', 'sentiment': 'Positive'}, {'uid': '0-2', 'target_tags': 'The\\\\O main\\\\O event\\\\O is\\\\O the\\\\O fitness\\\\B club\\\\I which\\\\O is\\\\O huge\\\\O and\\\\O awesome\\\\O as\\\\O well\\\\O as\\\\O the\\\\O large\\\\O lobby\\\\O and\\\\O rooms\\\\O .\\\\O', 'opinion_tags': 'The\\\\O main\\\\O event\\\\O is\\\\O the\\\\O fitness\\\\O club\\\\O which\\\\O is\\\\O huge\\\\O and\\\\O awesome\\\\O as\\\\O well\\\\O as\\\\O the\\\\O large\\\\B lobby\\\\O and\\\\O rooms\\\\O .\\\\O', 'sentiment': 'Positive'}, {'uid': '0-3', 'target_tags': 'The\\\\O main\\\\O event\\\\O is\\\\O the\\\\O fitness\\\\B club\\\\I which\\\\O is\\\\O huge\\\\O and\\\\O awesome\\\\O as\\\\O well\\\\O as\\\\O the\\\\O large\\\\O lobby\\\\O and\\\\O rooms\\\\O .\\\\O', 'opinion_tags': 'The\\\\O main\\\\O event\\\\O is\\\\O the\\\\O fitness\\\\O club\\\\O which\\\\O is\\\\O huge\\\\O and\\\\O awesome\\\\O as\\\\O well\\\\O as\\\\O the\\\\O large\\\\B lobby\\\\O and\\\\O rooms\\\\O .\\\\O', 'sentiment': 'Positive'}, {'uid': '1-0', 'target_tags': 'The\\\\O main\\\\O event\\\\O is\\\\O the\\\\O fitness\\\\B club\\\\I which\\\\O is\\\\O huge\\\\O and\\\\O awesome\\\\O as\\\\O well\\\\O as\\\\O the\\\\O large\\\\O lobby\\\\O and\\\\O rooms\\\\O .\\\\O', 'opinion_tags': 'The\\\\O main\\\\O event\\\\O is\\\\O the\\\\O fitness\\\\O club\\\\O which\\\\O is\\\\O huge\\\\B and\\\\O awesome\\\\O as\\\\O well\\\\O as\\\\O the\\\\O large\\\\O lobby\\\\O and\\\\O rooms\\\\O .\\\\O', 'sentiment': 'Positive'}, {'uid': '1-1', 'target_tags': 'The\\\\O main\\\\O event\\\\O is\\\\O the\\\\O fitness\\\\B club\\\\I which\\\\O is\\\\O huge\\\\O and\\\\O awesome\\\\O as\\\\O well\\\\O as\\\\O the\\\\O large\\\\O lobby\\\\O and\\\\O rooms\\\\O .\\\\O', 'opinion_tags': 'The\\\\O main\\\\O event\\\\O is\\\\O the\\\\O fitness\\\\O club\\\\O which\\\\O is\\\\O huge\\\\O and\\\\O awesome\\\\B as\\\\O well\\\\O as\\\\O the\\\\O large\\\\O lobby\\\\O and\\\\O rooms\\\\O .\\\\O', 'sentiment': 'Positive'}, {'uid': '1-2', 'target_tags': 'The\\\\O main\\\\O event\\\\O is\\\\O the\\\\O fitness\\\\B club\\\\I which\\\\O is\\\\O huge\\\\O and\\\\O awesome\\\\O as\\\\O well\\\\O as\\\\O the\\\\O large\\\\O lobby\\\\O and\\\\O rooms\\\\O .\\\\O', 'opinion_tags': 'The\\\\O main\\\\O event\\\\O is\\\\O the\\\\O fitness\\\\O club\\\\O which\\\\O is\\\\O huge\\\\O and\\\\O awesome\\\\O as\\\\O well\\\\O as\\\\O the\\\\O large\\\\B lobby\\\\O and\\\\O rooms\\\\O .\\\\O', 'sentiment': 'Positive'}, {'uid': '1-3', 'target_tags': 'The\\\\O main\\\\O event\\\\O is\\\\O the\\\\O fitness\\\\B club\\\\I which\\\\O is\\\\O huge\\\\O and\\\\O awesome\\\\O as\\\\O well\\\\O as\\\\O the\\\\O large\\\\O lobby\\\\O and\\\\O rooms\\\\O .\\\\O', 'opinion_tags': 'The\\\\O main\\\\O event\\\\O is\\\\O the\\\\O fitness\\\\O club\\\\O which\\\\O is\\\\O huge\\\\O and\\\\O awesome\\\\O as\\\\O well\\\\O as\\\\O the\\\\O large\\\\B lobby\\\\O and\\\\O rooms\\\\O .\\\\O', 'sentiment': 'Positive'}, {'uid': '2-0', 'target_tags': 'The\\\\O main\\\\O event\\\\O is\\\\O the\\\\O fitness\\\\O club\\\\O which\\\\O is\\\\O huge\\\\O and\\\\O awesome\\\\O as\\\\O well\\\\O as\\\\O the\\\\O large\\\\O lobby\\\\B and\\\\O rooms\\\\O .\\\\O', 'opinion_tags': 'The\\\\O main\\\\O event\\\\O is\\\\O the\\\\O fitness\\\\O club\\\\O which\\\\O is\\\\O huge\\\\B and\\\\O awesome\\\\O as\\\\O well\\\\O as\\\\O the\\\\O large\\\\O lobby\\\\O and\\\\O rooms\\\\O .\\\\O', 'sentiment': 'Positive'}, {'uid': '2-1', 'target_tags': 'The\\\\O main\\\\O event\\\\O is\\\\O the\\\\O fitness\\\\O club\\\\O which\\\\O is\\\\O huge\\\\O and\\\\O awesome\\\\O as\\\\O well\\\\O as\\\\O the\\\\O large\\\\O lobby\\\\B and\\\\O rooms\\\\O .\\\\O', 'opinion_tags': 'The\\\\O main\\\\O event\\\\O is\\\\O the\\\\O fitness\\\\O club\\\\O which\\\\O is\\\\O huge\\\\O and\\\\O awesome\\\\B as\\\\O well\\\\O as\\\\O the\\\\O large\\\\O lobby\\\\O and\\\\O rooms\\\\O .\\\\O', 'sentiment': 'Positive'}, {'uid': '2-2', 'target_tags': 'The\\\\O main\\\\O event\\\\O is\\\\O the\\\\O fitness\\\\O club\\\\O which\\\\O is\\\\O huge\\\\O and\\\\O awesome\\\\O as\\\\O well\\\\O as\\\\O the\\\\O large\\\\O lobby\\\\B and\\\\O rooms\\\\O .\\\\O', 'opinion_tags': 'The\\\\O main\\\\O event\\\\O is\\\\O the\\\\O fitness\\\\O club\\\\O which\\\\O is\\\\O huge\\\\O and\\\\O awesome\\\\O as\\\\O well\\\\O as\\\\O the\\\\O large\\\\B lobby\\\\O and\\\\O rooms\\\\O .\\\\O', 'sentiment': 'Positive'}, {'uid': '2-3', 'target_tags': 'The\\\\O main\\\\O event\\\\O is\\\\O the\\\\O fitness\\\\O club\\\\O which\\\\O is\\\\O huge\\\\O and\\\\O awesome\\\\O as\\\\O well\\\\O as\\\\O the\\\\O large\\\\O lobby\\\\B and\\\\O rooms\\\\O .\\\\O', 'opinion_tags': 'The\\\\O main\\\\O event\\\\O is\\\\O the\\\\O fitness\\\\O club\\\\O which\\\\O is\\\\O huge\\\\O and\\\\O awesome\\\\O as\\\\O well\\\\O as\\\\O the\\\\O large\\\\B lobby\\\\O and\\\\O rooms\\\\O .\\\\O', 'sentiment': 'Positive'}, {'uid': '3-0', 'target_tags': 'The\\\\O main\\\\O event\\\\O is\\\\O the\\\\O fitness\\\\O club\\\\O which\\\\O is\\\\O huge\\\\O and\\\\O awesome\\\\O as\\\\O well\\\\O as\\\\O the\\\\O large\\\\O lobby\\\\O and\\\\O rooms\\\\B .\\\\O', 'opinion_tags': 'The\\\\O main\\\\O event\\\\O is\\\\O the\\\\O fitness\\\\O club\\\\O which\\\\O is\\\\O huge\\\\B and\\\\O awesome\\\\O as\\\\O well\\\\O as\\\\O the\\\\O large\\\\O lobby\\\\O and\\\\O rooms\\\\O .\\\\O', 'sentiment': 'Positive'}, {'uid': '3-1', 'target_tags': 'The\\\\O main\\\\O event\\\\O is\\\\O the\\\\O fitness\\\\O club\\\\O which\\\\O is\\\\O huge\\\\O and\\\\O awesome\\\\O as\\\\O well\\\\O as\\\\O the\\\\O large\\\\O lobby\\\\O and\\\\O rooms\\\\B .\\\\O', 'opinion_tags': 'The\\\\O main\\\\O event\\\\O is\\\\O the\\\\O fitness\\\\O club\\\\O which\\\\O is\\\\O huge\\\\O and\\\\O awesome\\\\B as\\\\O well\\\\O as\\\\O the\\\\O large\\\\O lobby\\\\O and\\\\O rooms\\\\O .\\\\O', 'sentiment': 'Positive'}, {'uid': '3-2', 'target_tags': 'The\\\\O main\\\\O event\\\\O is\\\\O the\\\\O fitness\\\\O club\\\\O which\\\\O is\\\\O huge\\\\O and\\\\O awesome\\\\O as\\\\O well\\\\O as\\\\O the\\\\O large\\\\O lobby\\\\O and\\\\O rooms\\\\B .\\\\O', 'opinion_tags': 'The\\\\O main\\\\O event\\\\O is\\\\O the\\\\O fitness\\\\O club\\\\O which\\\\O is\\\\O huge\\\\O and\\\\O awesome\\\\O as\\\\O well\\\\O as\\\\O the\\\\O large\\\\B lobby\\\\O and\\\\O rooms\\\\O .\\\\O', 'sentiment': 'Positive'}, {'uid': '3-3', 'target_tags': 'The\\\\O main\\\\O event\\\\O is\\\\O the\\\\O fitness\\\\O club\\\\O which\\\\O is\\\\O huge\\\\O and\\\\O awesome\\\\O as\\\\O well\\\\O as\\\\O the\\\\O large\\\\O lobby\\\\O and\\\\O rooms\\\\B .\\\\O', 'opinion_tags': 'The\\\\O main\\\\O event\\\\O is\\\\O the\\\\O fitness\\\\O club\\\\O which\\\\O is\\\\O huge\\\\O and\\\\O awesome\\\\O as\\\\O well\\\\O as\\\\O the\\\\O large\\\\B lobby\\\\O and\\\\O rooms\\\\O .\\\\O', 'sentiment': 'Positive'}]}]\n"
     ]
    },
    {
     "name": "stderr",
     "output_type": "stream",
     "text": [
      "\n"
     ]
    },
    {
     "name": "stdout",
     "output_type": "stream",
     "text": [
      "2024-05-24 23:05:45,245 INFO: valid data examples:\n",
      " []\n",
      "building vocab...\n"
     ]
    },
    {
     "name": "stderr",
     "output_type": "stream",
     "text": [
      "converting data to features:  66%|██████▌   | 666/1009 [00:14<00:12, 27.77it/s]"
     ]
    },
    {
     "name": "stdout",
     "output_type": "stream",
     "text": [
      "[2024-05-24 23:06:00] (2.4.1.post1) Processing error for: The pool , gym and wellness are very nice . The outlook and the terrace of cafe Jakarta are wonderful . By bike the city is just a heartbeat away . We’ve had an absolute great stay and will definitely be back again .. Exception: list index out of range\n"
     ]
    },
    {
     "name": "stderr",
     "output_type": "stream",
     "text": [
      "converting data to features:  72%|███████▏  | 726/1009 [00:17<00:08, 34.13it/s]"
     ]
    },
    {
     "name": "stdout",
     "output_type": "stream",
     "text": [
      "[2024-05-24 23:06:02] (2.4.1.post1) Processing error for: I spent 4 nights in this new eco hotel . It is very proud of its sustainable ethos ,  but it cannot manage high temperatures .  It has no air conditioning despite assurances that it's floor cooling system would keep guests comfortable . Staff were obviously embarrassed by the inefficiency of the system as many guests complained about the heat in the rooms . Suggestions to keep the room cool ranged from keep your door and window open for a through breeze ! So much for security ! Or ..keep the curtains closed (not much point having a river view)  I asked for a fan , but was informed \"They are on order\" (I never did get one) I was uncomfortable especially at night as heavy duvets were the norm . .. Exception: length error\n"
     ]
    },
    {
     "name": "stderr",
     "output_type": "stream",
     "text": [
      "converting data to features:  82%|████████▏ | 831/1009 [00:22<00:07, 22.36it/s]"
     ]
    },
    {
     "name": "stdout",
     "output_type": "stream",
     "text": [
      "[2024-05-24 23:06:07] (2.4.1.post1) Processing error for: The rooms were small but well equipped and furnished with good space saving measures so you never really feel claustrophobic . In terms of transportation , tourist attractions like the Tower of London and Tower Bridge are nearby , but attractions in the west / north of london will require a longer journey . Nearest tube station is about 5 10 mins walk away .. Exception: list index out of range\n"
     ]
    },
    {
     "name": "stderr",
     "output_type": "stream",
     "text": [
      "converting data to features: 100%|██████████| 1009/1009 [00:30<00:00, 33.56it/s]\n",
      "converting data to features: 100%|██████████| 133/133 [00:02<00:00, 50.91it/s]\n",
      "converting data to features: 0it [00:00, ?it/s]\n",
      "Some weights of the model checkpoint at bert-base-cased were not used when initializing BertModel: ['cls.predictions.bias', 'cls.predictions.transform.dense.bias', 'cls.predictions.transform.LayerNorm.weight', 'cls.seq_relationship.weight', 'cls.seq_relationship.bias', 'cls.predictions.transform.dense.weight', 'cls.predictions.transform.LayerNorm.bias']\n",
      "- This IS expected if you are initializing BertModel from the checkpoint of a model trained on another task or with another architecture (e.g. initializing a BertForSequenceClassification model from a BertForPreTraining model).\n",
      "- This IS NOT expected if you are initializing BertModel from the checkpoint of a model that you expect to be exactly identical (initializing a BertForSequenceClassification model from a BertForSequenceClassification model).\n"
     ]
    },
    {
     "name": "stdout",
     "output_type": "stream",
     "text": [
      "[2024-05-24 23:06:19] (2.4.1.post1) ABSADatasetsVersion:None\t-->\tCalling Count:0\n",
      "[2024-05-24 23:06:19] (2.4.1.post1) MV:<metric_visualizer.metric_visualizer.MetricVisualizer object at 0x000001B650A062F0>\t-->\tCalling Count:0\n",
      "[2024-05-24 23:06:19] (2.4.1.post1) PyABSAVersion:2.4.1.post1\t-->\tCalling Count:1\n",
      "[2024-05-24 23:06:19] (2.4.1.post1) SRD:3\t-->\tCalling Count:0\n",
      "[2024-05-24 23:06:19] (2.4.1.post1) TorchVersion:2.3.0+cu121+cuda12.1\t-->\tCalling Count:1\n",
      "[2024-05-24 23:06:19] (2.4.1.post1) TransformersVersion:4.30.0\t-->\tCalling Count:1\n",
      "[2024-05-24 23:06:19] (2.4.1.post1) adam_epsilon:1e-08\t-->\tCalling Count:1\n",
      "[2024-05-24 23:06:19] (2.4.1.post1) auto_device:True\t-->\tCalling Count:2\n",
      "[2024-05-24 23:06:19] (2.4.1.post1) batch_size:16\t-->\tCalling Count:0\n",
      "[2024-05-24 23:06:19] (2.4.1.post1) cache_dataset:False\t-->\tCalling Count:1\n",
      "[2024-05-24 23:06:19] (2.4.1.post1) checkpoint_save_mode:1\t-->\tCalling Count:3\n",
      "[2024-05-24 23:06:19] (2.4.1.post1) cross_validate_fold:-1\t-->\tCalling Count:0\n",
      "[2024-05-24 23:06:19] (2.4.1.post1) dataset_file:{'train': ['integrated_datasets\\\\aste_datasets\\\\HotelDS\\\\train.txt'], 'test': ['integrated_datasets\\\\aste_datasets\\\\HotelDS\\\\test.txt'], 'valid': []}\t-->\tCalling Count:13\n",
      "[2024-05-24 23:06:19] (2.4.1.post1) dataset_name:custom_dataset\t-->\tCalling Count:3\n",
      "[2024-05-24 23:06:19] (2.4.1.post1) dca_layer:3\t-->\tCalling Count:0\n",
      "[2024-05-24 23:06:19] (2.4.1.post1) dca_p:1\t-->\tCalling Count:0\n",
      "[2024-05-24 23:06:19] (2.4.1.post1) deep_ensemble:False\t-->\tCalling Count:0\n",
      "[2024-05-24 23:06:19] (2.4.1.post1) deprel_size:41\t-->\tCalling Count:1\n",
      "[2024-05-24 23:06:19] (2.4.1.post1) deprel_vocab:<pyabsa.tasks.AspectSentimentTripletExtraction.dataset_utils.aste_utils.VocabHelp object at 0x000001B651E05A20>\t-->\tCalling Count:1142\n",
      "[2024-05-24 23:06:19] (2.4.1.post1) device:cuda:0\t-->\tCalling Count:2\n",
      "[2024-05-24 23:06:19] (2.4.1.post1) device_name:NVIDIA GeForce RTX 3080 Ti\t-->\tCalling Count:1\n",
      "[2024-05-24 23:06:19] (2.4.1.post1) dlcf_a:2\t-->\tCalling Count:0\n",
      "[2024-05-24 23:06:19] (2.4.1.post1) dropout:0.5\t-->\tCalling Count:0\n",
      "[2024-05-24 23:06:19] (2.4.1.post1) dynamic_truncate:True\t-->\tCalling Count:0\n",
      "[2024-05-24 23:06:19] (2.4.1.post1) emb_dropout:0.5\t-->\tCalling Count:1\n",
      "[2024-05-24 23:06:19] (2.4.1.post1) embed_dim:768\t-->\tCalling Count:0\n",
      "[2024-05-24 23:06:19] (2.4.1.post1) epochs:100\t-->\tCalling Count:0\n",
      "[2024-05-24 23:06:19] (2.4.1.post1) eta:1\t-->\tCalling Count:0\n",
      "[2024-05-24 23:06:19] (2.4.1.post1) eta_lr:0.1\t-->\tCalling Count:0\n",
      "[2024-05-24 23:06:19] (2.4.1.post1) evaluate_begin:0\t-->\tCalling Count:0\n",
      "[2024-05-24 23:06:19] (2.4.1.post1) from_checkpoint:None\t-->\tCalling Count:0\n",
      "[2024-05-24 23:06:19] (2.4.1.post1) gcn_dim:300\t-->\tCalling Count:6\n",
      "[2024-05-24 23:06:19] (2.4.1.post1) hidden_dim:768\t-->\tCalling Count:4\n",
      "[2024-05-24 23:06:19] (2.4.1.post1) index_to_label:OrderedDict([(0, 'N'), (1, 'B-A'), (2, 'I-A'), (3, 'A'), (4, 'B-O'), (5, 'I-O'), (6, 'O'), (7, 'Negative'), (8, 'Neutral'), (9, 'Positive')])\t-->\tCalling Count:0\n",
      "[2024-05-24 23:06:19] (2.4.1.post1) inference_model:None\t-->\tCalling Count:0\n",
      "[2024-05-24 23:06:19] (2.4.1.post1) initializer:xavier_uniform_\t-->\tCalling Count:0\n",
      "[2024-05-24 23:06:19] (2.4.1.post1) l2reg:1e-06\t-->\tCalling Count:3\n",
      "[2024-05-24 23:06:19] (2.4.1.post1) label_to_index:OrderedDict([('N', 0), ('B-A', 1), ('I-A', 2), ('A', 3), ('B-O', 4), ('I-O', 5), ('O', 6), ('Negative', 7), ('Neutral', 8), ('Positive', 9)])\t-->\tCalling Count:0\n",
      "[2024-05-24 23:06:19] (2.4.1.post1) lcf:cdw\t-->\tCalling Count:0\n",
      "[2024-05-24 23:06:19] (2.4.1.post1) learning_rate:2e-05\t-->\tCalling Count:3\n",
      "[2024-05-24 23:06:19] (2.4.1.post1) load_aug:False\t-->\tCalling Count:1\n",
      "[2024-05-24 23:06:19] (2.4.1.post1) log_step:-1\t-->\tCalling Count:0\n",
      "[2024-05-24 23:06:19] (2.4.1.post1) logger:<Logger emcgcn (INFO)>\t-->\tCalling Count:11\n",
      "[2024-05-24 23:06:19] (2.4.1.post1) lsa:False\t-->\tCalling Count:0\n",
      "[2024-05-24 23:06:19] (2.4.1.post1) max_seq_len:150\t-->\tCalling Count:52267\n",
      "[2024-05-24 23:06:19] (2.4.1.post1) model:<class 'pyabsa.tasks.AspectSentimentTripletExtraction.models.model.EMCGCN'>\t-->\tCalling Count:5\n",
      "[2024-05-24 23:06:19] (2.4.1.post1) model_name:emcgcn\t-->\tCalling Count:2\n",
      "[2024-05-24 23:06:19] (2.4.1.post1) model_path_to_save:checkpoints/aste/bert-base-cased\t-->\tCalling Count:0\n",
      "[2024-05-24 23:06:19] (2.4.1.post1) num_epoch:30\t-->\tCalling Count:0\n",
      "[2024-05-24 23:06:19] (2.4.1.post1) num_layers:1\t-->\tCalling Count:1\n",
      "[2024-05-24 23:06:19] (2.4.1.post1) optimizer:adamw\t-->\tCalling Count:1\n",
      "[2024-05-24 23:06:19] (2.4.1.post1) output_dim:10\t-->\tCalling Count:7\n",
      "[2024-05-24 23:06:19] (2.4.1.post1) overwrite_cache:False\t-->\tCalling Count:0\n",
      "[2024-05-24 23:06:19] (2.4.1.post1) path_to_save:checkpoints/aste/bert-base-cased\t-->\tCalling Count:2\n",
      "[2024-05-24 23:06:19] (2.4.1.post1) patience:99999\t-->\tCalling Count:0\n",
      "[2024-05-24 23:06:19] (2.4.1.post1) pooling:avg\t-->\tCalling Count:1\n",
      "[2024-05-24 23:06:19] (2.4.1.post1) post_size:143\t-->\tCalling Count:1\n",
      "[2024-05-24 23:06:19] (2.4.1.post1) post_vocab:<pyabsa.tasks.AspectSentimentTripletExtraction.dataset_utils.aste_utils.VocabHelp object at 0x000001B633633250>\t-->\tCalling Count:1142\n",
      "[2024-05-24 23:06:19] (2.4.1.post1) postag_size:106\t-->\tCalling Count:1\n",
      "[2024-05-24 23:06:19] (2.4.1.post1) postag_vocab:<pyabsa.tasks.AspectSentimentTripletExtraction.dataset_utils.aste_utils.VocabHelp object at 0x000001B6889B6CE0>\t-->\tCalling Count:1142\n",
      "[2024-05-24 23:06:19] (2.4.1.post1) pretrained_bert:bert-base-cased\t-->\tCalling Count:5\n",
      "[2024-05-24 23:06:19] (2.4.1.post1) relation_constraint:True\t-->\tCalling Count:0\n",
      "[2024-05-24 23:06:19] (2.4.1.post1) save_mode:1\t-->\tCalling Count:0\n",
      "[2024-05-24 23:06:19] (2.4.1.post1) seed:52\t-->\tCalling Count:7\n",
      "[2024-05-24 23:06:19] (2.4.1.post1) sigma:0.3\t-->\tCalling Count:0\n",
      "[2024-05-24 23:06:19] (2.4.1.post1) similarity_threshold:1\t-->\tCalling Count:0\n",
      "[2024-05-24 23:06:19] (2.4.1.post1) spacy_model:zh_core_web_sm\t-->\tCalling Count:6\n",
      "[2024-05-24 23:06:19] (2.4.1.post1) srd_alignment:True\t-->\tCalling Count:0\n",
      "[2024-05-24 23:06:19] (2.4.1.post1) symmetry_decoding:False\t-->\tCalling Count:0\n",
      "[2024-05-24 23:06:19] (2.4.1.post1) syn_post_vocab:<pyabsa.tasks.AspectSentimentTripletExtraction.dataset_utils.aste_utils.VocabHelp object at 0x000001B6889B6D70>\t-->\tCalling Count:1144\n",
      "[2024-05-24 23:06:19] (2.4.1.post1) synpost_size:7\t-->\tCalling Count:1\n",
      "[2024-05-24 23:06:19] (2.4.1.post1) task:triplet\t-->\tCalling Count:36516\n",
      "[2024-05-24 23:06:19] (2.4.1.post1) task_code:ASTE\t-->\tCalling Count:2\n",
      "[2024-05-24 23:06:19] (2.4.1.post1) task_name:Aspect Sentiment Triple Extraction\t-->\tCalling Count:0\n",
      "[2024-05-24 23:06:19] (2.4.1.post1) token_vocab:<pyabsa.tasks.AspectSentimentTripletExtraction.dataset_utils.aste_utils.VocabHelp object at 0x000001B650A076A0>\t-->\tCalling Count:0\n",
      "[2024-05-24 23:06:19] (2.4.1.post1) tokenizer:<pyabsa.framework.tokenizer_class.tokenizer_class.PretrainedTokenizer object at 0x000001B6352B1960>\t-->\tCalling Count:0\n",
      "[2024-05-24 23:06:19] (2.4.1.post1) use_amp:True\t-->\tCalling Count:1\n",
      "[2024-05-24 23:06:19] (2.4.1.post1) use_bert_spc:True\t-->\tCalling Count:0\n",
      "[2024-05-24 23:06:19] (2.4.1.post1) use_syntax_based_SRD:False\t-->\tCalling Count:0\n",
      "[2024-05-24 23:06:19] (2.4.1.post1) warmup_step:-1\t-->\tCalling Count:0\n",
      "[2024-05-24 23:06:19] (2.4.1.post1) weight_decay:0.0\t-->\tCalling Count:0\n",
      "[2024-05-24 23:06:19] (2.4.1.post1) window:lr\t-->\tCalling Count:0\n",
      "2024-05-24 23:06:19,837 INFO: ***** Running training for Aspect Sentiment Triple Extraction *****\n",
      "2024-05-24 23:06:19,837 INFO: Training set examples = 1006\n",
      "2024-05-24 23:06:19,838 INFO: Test set examples = 133\n",
      "2024-05-24 23:06:19,839 INFO: Total params = 110011298, Trainable params = 110011298, Non-trainable params = 0\n",
      "2024-05-24 23:06:19,839 INFO: Batch size = 16\n",
      "2024-05-24 23:06:19,840 INFO: Num steps = 1890\n"
     ]
    },
    {
     "name": "stderr",
     "output_type": "stream",
     "text": [
      "Epoch:  0 | Smooth Loss: 0.4003: 100%|██████████| 63/63 [00:13<00:00,  4.66it/s, Dev F1:0.00(max:0.00)]\n",
      "Epoch:  1 | Smooth Loss: 0.3343: 100%|██████████| 63/63 [00:12<00:00,  4.89it/s, Dev F1:30.51(max:30.51)]\n",
      "Epoch:  2 | Smooth Loss: 0.2993: 100%|██████████| 63/63 [00:12<00:00,  4.89it/s, Dev F1:47.55(max:47.55)]\n",
      "Epoch:  3 | Smooth Loss: 0.2740: 100%|██████████| 63/63 [00:12<00:00,  4.87it/s, Dev F1:52.13(max:52.13)]\n",
      "Epoch:  4 | Smooth Loss: 0.2546: 100%|██████████| 63/63 [00:13<00:00,  4.77it/s, Dev F1:56.04(max:56.04)]\n",
      "Epoch:  5 | Smooth Loss: 0.2403: 100%|██████████| 63/63 [00:12<00:00,  4.99it/s, Dev F1:51.49(max:56.04)]\n",
      "Epoch:  6 | Smooth Loss: 0.2279: 100%|██████████| 63/63 [00:12<00:00,  4.87it/s, Dev F1:59.34(max:59.34)]\n",
      "Epoch:  7 | Smooth Loss: 0.2173: 100%|██████████| 63/63 [00:13<00:00,  4.78it/s, Dev F1:59.95(max:59.95)]\n",
      "Epoch:  8 | Smooth Loss: 0.2079: 100%|██████████| 63/63 [00:12<00:00,  4.99it/s, Dev F1:58.60(max:59.95)]\n",
      "Epoch:  9 | Smooth Loss: 0.1994: 100%|██████████| 63/63 [00:12<00:00,  4.99it/s, Dev F1:59.40(max:59.95)]\n",
      "Epoch: 10 | Smooth Loss: 0.1917: 100%|██████████| 63/63 [00:12<00:00,  4.98it/s, Dev F1:57.77(max:59.95)]\n",
      "Epoch: 11 | Smooth Loss: 0.1849: 100%|██████████| 63/63 [00:13<00:00,  4.78it/s, Dev F1:60.41(max:60.41)]\n",
      "Epoch: 12 | Smooth Loss: 0.1789: 100%|██████████| 63/63 [00:12<00:00,  4.85it/s, Dev F1:61.70(max:61.70)]\n",
      "Epoch: 13 | Smooth Loss: 0.1733: 100%|██████████| 63/63 [00:12<00:00,  4.97it/s, Dev F1:61.54(max:61.70)]\n",
      "Epoch: 14 | Smooth Loss: 0.1682: 100%|██████████| 63/63 [00:12<00:00,  4.99it/s, Dev F1:61.12(max:61.70)]\n",
      "Epoch: 15 | Smooth Loss: 0.1633: 100%|██████████| 63/63 [00:13<00:00,  4.78it/s, Dev F1:62.75(max:62.75)]\n",
      "Epoch: 16 | Smooth Loss: 0.1589: 100%|██████████| 63/63 [00:12<00:00,  4.86it/s, Dev F1:63.72(max:63.72)]\n",
      "Epoch: 17 | Smooth Loss: 0.1547: 100%|██████████| 63/63 [00:12<00:00,  4.99it/s, Dev F1:57.92(max:63.72)]\n",
      "Epoch: 18 | Smooth Loss: 0.1509: 100%|██████████| 63/63 [00:12<00:00,  4.91it/s, Dev F1:59.76(max:63.72)]\n",
      "Epoch: 19 | Smooth Loss: 0.1473: 100%|██████████| 63/63 [00:12<00:00,  4.86it/s, Dev F1:64.86(max:64.86)]\n",
      "Epoch: 20 | Smooth Loss: 0.1439: 100%|██████████| 63/63 [00:12<00:00,  5.00it/s, Dev F1:63.46(max:64.86)]\n",
      "Epoch: 21 | Smooth Loss: 0.1407: 100%|██████████| 63/63 [00:12<00:00,  4.99it/s, Dev F1:62.86(max:64.86)]\n",
      "Epoch: 22 | Smooth Loss: 0.1377: 100%|██████████| 63/63 [00:12<00:00,  4.91it/s, Dev F1:64.72(max:64.86)]\n",
      "Epoch: 23 | Smooth Loss: 0.1348: 100%|██████████| 63/63 [00:12<00:00,  4.99it/s, Dev F1:63.36(max:64.86)]\n",
      "Epoch: 24 | Smooth Loss: 0.1321: 100%|██████████| 63/63 [00:12<00:00,  5.00it/s, Dev F1:63.10(max:64.86)]\n",
      "Epoch: 25 | Smooth Loss: 0.1296: 100%|██████████| 63/63 [00:12<00:00,  5.01it/s, Dev F1:62.85(max:64.86)]\n",
      "Epoch: 26 | Smooth Loss: 0.1271: 100%|██████████| 63/63 [00:12<00:00,  4.92it/s, Dev F1:63.05(max:64.86)]\n",
      "Epoch: 27 | Smooth Loss: 0.1247: 100%|██████████| 63/63 [00:12<00:00,  4.98it/s, Dev F1:62.81(max:64.86)]\n",
      "Epoch: 28 | Smooth Loss: 0.1223: 100%|██████████| 63/63 [00:12<00:00,  4.99it/s, Dev F1:63.41(max:64.86)]\n",
      "Epoch: 29 | Smooth Loss: 0.1202: 100%|██████████| 63/63 [00:12<00:00,  5.00it/s, Dev F1:60.71(max:64.86)]\n"
     ]
    },
    {
     "name": "stdout",
     "output_type": "stream",
     "text": [
      "[2024-05-24 23:12:44] (2.4.1.post1) Loading best model: checkpoints/aste/bert-base-cased/emcgcn_custom_dataset_f1_64.86/ and evaluating on test set \n",
      "2024-05-24 23:12:45,364 INFO: \n",
      "----------------------------------------------------------------- Raw Metric Records -----------------------------------------------------------------\n",
      "╒═══════════════════════════╤═══════════════════════════════════════╤═════════════════════╤═══════════╤══════════╤═══════╤═══════╤═════════╤═════════╕\n",
      "│ Metric                    │ Trial                                 │ Values              │  Average  │  Median  │  Std  │  IQR  │   Min   │   Max   │\n",
      "╞═══════════════════════════╪═══════════════════════════════════════╪═════════════════════╪═══════════╪══════════╪═══════╪═══════╪═════════╪═════════╡\n",
      "│ Max-Test-F1 w/o Valid Set │ emcgcn-custom_dataset-bert-base-cased │ [64.85539000876425] │  64.8554  │ 64.8554  │   0   │   0   │ 64.8554 │ 64.8554 │\n",
      "├───────────────────────────┼───────────────────────────────────────┼─────────────────────┼───────────┼──────────┼───────┼───────┼─────────┼─────────┤\n",
      "│ Max-Test-F1               │ emcgcn-custom_dataset-bert-base-cased │ [64.85539000876425] │  64.8554  │ 64.8554  │   0   │   0   │ 64.8554 │ 64.8554 │\n",
      "╘═══════════════════════════╧═══════════════════════════════════════╧═════════════════════╧═══════════╧══════════╧═══════╧═══════╧═════════╧═════════╛\n",
      "-------------------------------------------------- https://github.com/yangheng95/metric_visualizer --------------------------------------------------\n",
      "\n",
      "[2024-05-24 23:12:48] (2.4.1.post1) Load sentiment classifier from checkpoints/aste/bert-base-cased/emcgcn_custom_dataset_f1_64.86/\n",
      "[2024-05-24 23:12:48] (2.4.1.post1) config: checkpoints/aste/bert-base-cased/emcgcn_custom_dataset_f1_64.86/emcgcn.config\n",
      "[2024-05-24 23:12:48] (2.4.1.post1) state_dict: checkpoints/aste/bert-base-cased/emcgcn_custom_dataset_f1_64.86/emcgcn.state_dict\n",
      "[2024-05-24 23:12:48] (2.4.1.post1) model: None\n",
      "[2024-05-24 23:12:48] (2.4.1.post1) tokenizer: checkpoints/aste/bert-base-cased/emcgcn_custom_dataset_f1_64.86/emcgcn.tokenizer\n",
      "[2024-05-24 23:12:48] (2.4.1.post1) Set Model Device: cuda:0\n",
      "[2024-05-24 23:12:48] (2.4.1.post1) Device Name: NVIDIA GeForce RTX 3080 Ti\n"
     ]
    },
    {
     "name": "stderr",
     "output_type": "stream",
     "text": [
      "Some weights of the model checkpoint at bert-base-cased were not used when initializing BertModel: ['cls.predictions.bias', 'cls.predictions.transform.dense.bias', 'cls.predictions.transform.LayerNorm.weight', 'cls.seq_relationship.weight', 'cls.seq_relationship.bias', 'cls.predictions.transform.dense.weight', 'cls.predictions.transform.LayerNorm.bias']\n",
      "- This IS expected if you are initializing BertModel from the checkpoint of a model trained on another task or with another architecture (e.g. initializing a BertForSequenceClassification model from a BertForPreTraining model).\n",
      "- This IS NOT expected if you are initializing BertModel from the checkpoint of a model that you expect to be exactly identical (initializing a BertForSequenceClassification model from a BertForSequenceClassification model).\n"
     ]
    }
   ],
   "source": [
    "# -*- coding: utf-8 -*-\n",
    "# file: trainer.py\n",
    "# time: 2021/5/26 0026\n",
    "# author: YANG, HENG <hy345@exeter.ac.uk> (杨恒)\n",
    "# github: https://github.com/yangheng95\n",
    "# Copyright (C) 2021. All Rights Reserved.\n",
    "\n",
    "########################################################################################################################\n",
    "#                    train and evaluate on your own apc_datasets (need train and test apc_datasets)                    #\n",
    "########################################################################################################################\n",
    "\n",
    "from pyabsa import (\n",
    "    ModelSaveOption,\n",
    "    DeviceTypeOption,\n",
    "    DatasetItem,\n",
    ")\n",
    "pretrained_bert = 'bert-base-cased'\n",
    "from pyabsa import AspectSentimentTripletExtraction as ASTE\n",
    "\n",
    "config = ASTE.ASTEConfigManager.get_aste_config_english()\n",
    "config.max_seq_len = 150\n",
    "config.log_step = -1\n",
    "# config.pretrained_bert = \"microsoft/mdeberta-v3-base\"\n",
    "config.pretrained_bert = 'bert-base-cased'\n",
    "# config.pretrained_bert = \"bert-base-chinese\"\n",
    "config.num_epoch = 30\n",
    "config.learning_rate = 2e-5\n",
    "# config.cache_dataset = False\n",
    "config.use_amp = True\n",
    "config.cache_dataset = False\n",
    "config.spacy_model = \"zh_core_web_sm\"\n",
    "\n",
    "dataset = \"HotelDS\"\n",
    "trainer = ASTE.ASTETrainer(\n",
    "    config=config,\n",
    "    dataset=dataset,\n",
    "    # from_checkpoint='english',\n",
    "    checkpoint_save_mode=ModelSaveOption.SAVE_MODEL_STATE_DICT,\n",
    "    # checkpoint_save_mode=ModelSaveOption.DO_NOT_SAVE_MODEL,\n",
    "    path_to_save=f\"checkpoints/aste/{pretrained_bert}\",\n",
    "    auto_device=True,\n",
    ")\n",
    "triplet_extractor = trainer.load_trained_model()\n"
   ]
  },
  {
   "cell_type": "code",
   "execution_count": 3,
   "metadata": {},
   "outputs": [
    {
     "name": "stdout",
     "output_type": "stream",
     "text": [
      "[2024-05-24 23:12:51] (2.4.1.post1) Set Model Device: cuda:0\n",
      "[2024-05-24 23:12:51] (2.4.1.post1) Device Name: NVIDIA GeForce RTX 3080 Ti\n",
      "2024-05-24 23:12:52,026 INFO: PyABSA version: 2.4.1.post1\n",
      "2024-05-24 23:12:52,028 INFO: Transformers version: 4.30.0\n",
      "2024-05-24 23:12:52,028 INFO: Torch version: 2.3.0+cu121+cuda12.1\n",
      "2024-05-24 23:12:52,029 INFO: Device: NVIDIA GeForce RTX 3080 Ti\n",
      "2024-05-24 23:12:52,032 INFO: Searching dataset HotelDS in local disk\n",
      "2024-05-24 23:12:52,066 INFO: You can set load_aug=True in a trainer to augment your dataset (English only yet) and improve performance.\n",
      "2024-05-24 23:12:52,066 INFO: Please use a new folder to perform new text augment if the former augment in integrated_datasets\\aste_datasets\\HotelDS errored unexpectedly\n",
      "[2024-05-24 23:12:52] (2.4.1.post1) \u001b[33mUse torch.AMP for training! Please disable it if you encounter convergence problems.\u001b[0m\n",
      "2024-05-24 23:12:53,356 INFO: Load dataset from integrated_datasets\\aste_datasets\\HotelDS\\train.txt\n"
     ]
    },
    {
     "name": "stderr",
     "output_type": "stream",
     "text": [
      "preparing dataloader:   1%|▏         | 15/1014 [00:00<00:06, 143.40it/s]"
     ]
    },
    {
     "name": "stdout",
     "output_type": "stream",
     "text": [
      "Invalid annotations format, please check your dataset file.\n"
     ]
    },
    {
     "name": "stderr",
     "output_type": "stream",
     "text": [
      "preparing dataloader:  16%|█▌        | 159/1014 [00:00<00:04, 198.68it/s]"
     ]
    },
    {
     "name": "stdout",
     "output_type": "stream",
     "text": [
      "Invalid annotations format, please check your dataset file.\n"
     ]
    },
    {
     "name": "stderr",
     "output_type": "stream",
     "text": [
      "preparing dataloader:  20%|█▉        | 202/1014 [00:01<00:04, 200.74it/s]"
     ]
    },
    {
     "name": "stdout",
     "output_type": "stream",
     "text": [
      "Invalid annotations format, please check your dataset file.\n"
     ]
    },
    {
     "name": "stderr",
     "output_type": "stream",
     "text": [
      "preparing dataloader:  35%|███▍      | 352/1014 [00:01<00:03, 210.97it/s]"
     ]
    },
    {
     "name": "stdout",
     "output_type": "stream",
     "text": [
      "invalid syntax (<string>, line 1)\n"
     ]
    },
    {
     "name": "stderr",
     "output_type": "stream",
     "text": [
      "preparing dataloader:  60%|██████    | 612/1014 [00:02<00:01, 204.03it/s]"
     ]
    },
    {
     "name": "stdout",
     "output_type": "stream",
     "text": [
      "We stayed 4 nights at Hotel Barocco in Rome and it was PERFECt ! The front desk staff could not be more helpful    helped us find Covid testing and airport transfers and reservations / cancelations for dinners . They were so pleasant and charming . Had a drink in their bar one night and spent a long time talking to the bar staff and manager    so interesting .\n",
      "We stayed 4 nights at Hotel Barocco in Rome and it was PERFECt ! The front desk staff could not be more helpful -- helped us find Covid testing and airport transfers and reservations / cancelations for dinners . They were so pleasant and charming . Had a drink in their bar one night and spent a long time talking to the bar staff and manager -- so interesting .####[([5], [12], 'POS'), ([15, 16, 17], [22], 'POS'), ([15, 16, 17], [42], 'POS'), ([15, 16, 17], [44], 'POS'), ([62, 63], [68], 'POS'), ([65], [68], 'POS')]\n",
      "[([5], [12], 'POS'), ([15, 16, 17], [22], 'POS'), ([15, 16, 17], [42], 'POS'), ([15, 16, 17], [44], 'POS'), ([62, 63], [68], 'POS'), ([65], [68], 'POS')]\n"
     ]
    },
    {
     "name": "stderr",
     "output_type": "stream",
     "text": [
      "preparing dataloader: 100%|██████████| 1014/1014 [00:05<00:00, 180.84it/s]\n"
     ]
    },
    {
     "name": "stdout",
     "output_type": "stream",
     "text": [
      "2024-05-24 23:12:59,545 INFO: train data examples:\n",
      " [{'id': tensor(0), 'sentence': 'aExcellent staff , location is excellent .', 'postag': ['PUNCT', 'VERB', 'PUNCT', 'NOUN', 'NOUN', 'NOUN', 'PUNCT'], 'head': tensor([1, 1, 1, 4, 1, 1, 1]), 'deprel': ['dep', 'ROOT', 'punct', 'nsubj', 'dep', 'conj', 'punct'], 'triples': [{'uid': '0-0', 'target_tags': 'aExcellent\\\\O staff\\\\B ,\\\\O location\\\\O is\\\\O excellent\\\\O .\\\\O', 'opinion_tags': 'aExcellent\\\\B staff\\\\O ,\\\\O location\\\\O is\\\\O excellent\\\\O .\\\\O', 'sentiment': 'Positive'}, {'uid': '0-1', 'target_tags': 'aExcellent\\\\O staff\\\\B ,\\\\O location\\\\O is\\\\O excellent\\\\O .\\\\O', 'opinion_tags': 'aExcellent\\\\O staff\\\\O ,\\\\O location\\\\O is\\\\O excellent\\\\B .\\\\O', 'sentiment': 'Positive'}, {'uid': '1-0', 'target_tags': 'aExcellent\\\\O staff\\\\O ,\\\\O location\\\\B is\\\\O excellent\\\\O .\\\\O', 'opinion_tags': 'aExcellent\\\\B staff\\\\O ,\\\\O location\\\\O is\\\\O excellent\\\\O .\\\\O', 'sentiment': 'Positive'}, {'uid': '1-1', 'target_tags': 'aExcellent\\\\O staff\\\\O ,\\\\O location\\\\B is\\\\O excellent\\\\O .\\\\O', 'opinion_tags': 'aExcellent\\\\O staff\\\\O ,\\\\O location\\\\O is\\\\O excellent\\\\B .\\\\O', 'sentiment': 'Positive'}]}, {'id': tensor(1), 'sentence': 'Our room was small and no door to bathroom .', 'postag': ['NOUN', 'NOUN', 'NOUN', 'PROPN', 'CCONJ', 'ADJ', 'NOUN', 'ADP', 'NOUN', 'PUNCT'], 'head': tensor([1, 2, 3, 8, 8, 6, 4, 8, 8, 8]), 'deprel': ['compound:nn', 'compound:nn', 'appos', 'conj', 'cc', 'amod', 'dep', 'case', 'ROOT', 'punct'], 'triples': [{'uid': '0-0', 'target_tags': 'Our\\\\O room\\\\B was\\\\O small\\\\O and\\\\O no\\\\O door\\\\O to\\\\O bathroom\\\\O .\\\\O', 'opinion_tags': 'Our\\\\O room\\\\O was\\\\O small\\\\B and\\\\O no\\\\O door\\\\O to\\\\O bathroom\\\\O .\\\\O', 'sentiment': 'Negative'}, {'uid': '0-1', 'target_tags': 'Our\\\\O room\\\\B was\\\\O small\\\\O and\\\\O no\\\\O door\\\\O to\\\\O bathroom\\\\O .\\\\O', 'opinion_tags': 'Our\\\\O room\\\\O was\\\\O small\\\\O and\\\\O no\\\\B door\\\\I to\\\\O bathroom\\\\O .\\\\O', 'sentiment': 'Negative'}, {'uid': '1-0', 'target_tags': 'Our\\\\O room\\\\O was\\\\O small\\\\O and\\\\O no\\\\O door\\\\O to\\\\O bathroom\\\\B .\\\\O', 'opinion_tags': 'Our\\\\O room\\\\O was\\\\O small\\\\B and\\\\O no\\\\O door\\\\O to\\\\O bathroom\\\\O .\\\\O', 'sentiment': 'Negative'}, {'uid': '1-1', 'target_tags': 'Our\\\\O room\\\\O was\\\\O small\\\\O and\\\\O no\\\\O door\\\\O to\\\\O bathroom\\\\B .\\\\O', 'opinion_tags': 'Our\\\\O room\\\\O was\\\\O small\\\\O and\\\\O no\\\\B door\\\\I to\\\\O bathroom\\\\O .\\\\O', 'sentiment': 'Negative'}]}]\n",
      "2024-05-24 23:13:00,092 INFO: Load dataset from integrated_datasets\\aste_datasets\\HotelDS\\test.txt\n"
     ]
    },
    {
     "name": "stderr",
     "output_type": "stream",
     "text": [
      "preparing dataloader:  61%|██████    | 82/134 [00:00<00:00, 181.60it/s]"
     ]
    },
    {
     "name": "stdout",
     "output_type": "stream",
     "text": [
      "Invalid annotations format, please check your dataset file.\n"
     ]
    },
    {
     "name": "stderr",
     "output_type": "stream",
     "text": [
      "preparing dataloader: 100%|██████████| 134/134 [00:00<00:00, 200.79it/s]\n"
     ]
    },
    {
     "name": "stdout",
     "output_type": "stream",
     "text": [
      "2024-05-24 23:13:00,832 INFO: test data examples:\n",
      " [{'id': tensor(0), 'sentence': 'I hate writing anything negative but if your room faces Lake Ontario you will have a killer view BUT the noise of the 6 lane highway will quickly become the only thing you hear as you try to sleep.  .', 'postag': ['PRON', 'VERB', 'NOUN', 'PROPN', 'PROPN', 'PROPN', 'VERB', 'PRON', 'NOUN', 'VERB', 'NOUN', 'NOUN', 'PRON', 'NOUN', 'VERB', 'DET', 'ADJ', 'NOUN', 'PROPN', 'DET', 'NOUN', 'ADP', 'DET', 'NUM', 'PROPN', 'PROPN', 'VERB', 'PROPN', 'PROPN', 'DET', 'NOUN', 'VERB', 'PRON', 'PROPN', 'VERB', 'PRON', 'NOUN', 'ADP', 'VERB', 'PUNCT', 'PUNCT'], 'head': tensor([ 1,  1,  3,  1,  8,  4,  4,  8,  1,  1, 12, 12, 13, 14,  1, 17, 17, 14,\n",
      "        20, 20, 14, 26, 25, 22, 25, 26, 31, 26, 26, 30, 31, 14, 33, 31, 31, 36,\n",
      "        38, 38, 34,  1,  1]), 'deprel': ['nsubj', 'ROOT', 'compound:nn', 'dobj', 'acl', 'dep', 'conj', 'compound:nn', 'dobj', 'conj', 'dep', 'dep', 'nmod:poss', 'nsubj', 'conj', 'det', 'amod', 'dobj', 'compound:nn', 'det', 'dobj', 'case', 'det', 'dep', 'amod', 'nsubj', 'nmod:prep', 'dobj', 'dobj', 'det', 'advmod', 'conj', 'appos', 'dobj', 'conj', 'nmod:poss', 'dep', 'advmod', 'ccomp', 'punct', 'punct'], 'triples': [{'uid': '0-0', 'target_tags': 'I\\\\O hate\\\\O writing\\\\O anything\\\\O negative\\\\O but\\\\O if\\\\O your\\\\O room\\\\O faces\\\\O Lake\\\\O Ontario\\\\O you\\\\O will\\\\O have\\\\O a\\\\O killer\\\\O view\\\\B BUT\\\\O the\\\\O noise\\\\O of\\\\O the\\\\O 6\\\\O lane\\\\O highway\\\\O will\\\\O quickly\\\\O become\\\\O the\\\\O only\\\\O thing\\\\O you\\\\O hear\\\\O as\\\\O you\\\\O try\\\\O to\\\\O sleep.\\\\O .\\\\O', 'opinion_tags': 'I\\\\O hate\\\\O writing\\\\O anything\\\\O negative\\\\O but\\\\O if\\\\O your\\\\O room\\\\O faces\\\\O Lake\\\\O Ontario\\\\O you\\\\O will\\\\O have\\\\O a\\\\O killer\\\\B view\\\\O BUT\\\\O the\\\\O noise\\\\O of\\\\O the\\\\O 6\\\\O lane\\\\O highway\\\\O will\\\\O quickly\\\\O become\\\\O the\\\\O only\\\\O thing\\\\O you\\\\O hear\\\\O as\\\\O you\\\\O try\\\\O to\\\\O sleep.\\\\O .\\\\O', 'sentiment': 'Positive'}, {'uid': '0-1', 'target_tags': 'I\\\\O hate\\\\O writing\\\\O anything\\\\O negative\\\\O but\\\\O if\\\\O your\\\\O room\\\\O faces\\\\O Lake\\\\O Ontario\\\\O you\\\\O will\\\\O have\\\\O a\\\\O killer\\\\O view\\\\B BUT\\\\O the\\\\O noise\\\\O of\\\\O the\\\\O 6\\\\O lane\\\\O highway\\\\O will\\\\O quickly\\\\O become\\\\O the\\\\O only\\\\O thing\\\\O you\\\\O hear\\\\O as\\\\O you\\\\O try\\\\O to\\\\O sleep.\\\\O .\\\\O', 'opinion_tags': 'I\\\\O hate\\\\O writing\\\\O anything\\\\O negative\\\\B but\\\\O if\\\\O your\\\\O room\\\\O faces\\\\O Lake\\\\O Ontario\\\\O you\\\\O will\\\\O have\\\\O a\\\\O killer\\\\O view\\\\O BUT\\\\O the\\\\O noise\\\\O of\\\\O the\\\\O 6\\\\O lane\\\\O highway\\\\O will\\\\O quickly\\\\O become\\\\O the\\\\O only\\\\O thing\\\\O you\\\\O hear\\\\O as\\\\O you\\\\O try\\\\O to\\\\O sleep.\\\\O .\\\\O', 'sentiment': 'Negative'}, {'uid': '1-0', 'target_tags': 'I\\\\O hate\\\\O writing\\\\O anything\\\\O negative\\\\O but\\\\O if\\\\O your\\\\O room\\\\O faces\\\\O Lake\\\\O Ontario\\\\O you\\\\O will\\\\O have\\\\O a\\\\O killer\\\\O view\\\\O BUT\\\\O the\\\\O noise\\\\B of\\\\O the\\\\O 6\\\\O lane\\\\O highway\\\\O will\\\\O quickly\\\\O become\\\\O the\\\\O only\\\\O thing\\\\O you\\\\O hear\\\\O as\\\\O you\\\\O try\\\\O to\\\\O sleep.\\\\O .\\\\O', 'opinion_tags': 'I\\\\O hate\\\\O writing\\\\O anything\\\\O negative\\\\O but\\\\O if\\\\O your\\\\O room\\\\O faces\\\\O Lake\\\\O Ontario\\\\O you\\\\O will\\\\O have\\\\O a\\\\O killer\\\\B view\\\\O BUT\\\\O the\\\\O noise\\\\O of\\\\O the\\\\O 6\\\\O lane\\\\O highway\\\\O will\\\\O quickly\\\\O become\\\\O the\\\\O only\\\\O thing\\\\O you\\\\O hear\\\\O as\\\\O you\\\\O try\\\\O to\\\\O sleep.\\\\O .\\\\O', 'sentiment': 'Positive'}, {'uid': '1-1', 'target_tags': 'I\\\\O hate\\\\O writing\\\\O anything\\\\O negative\\\\O but\\\\O if\\\\O your\\\\O room\\\\O faces\\\\O Lake\\\\O Ontario\\\\O you\\\\O will\\\\O have\\\\O a\\\\O killer\\\\O view\\\\O BUT\\\\O the\\\\O noise\\\\B of\\\\O the\\\\O 6\\\\O lane\\\\O highway\\\\O will\\\\O quickly\\\\O become\\\\O the\\\\O only\\\\O thing\\\\O you\\\\O hear\\\\O as\\\\O you\\\\O try\\\\O to\\\\O sleep.\\\\O .\\\\O', 'opinion_tags': 'I\\\\O hate\\\\O writing\\\\O anything\\\\O negative\\\\B but\\\\O if\\\\O your\\\\O room\\\\O faces\\\\O Lake\\\\O Ontario\\\\O you\\\\O will\\\\O have\\\\O a\\\\O killer\\\\O view\\\\O BUT\\\\O the\\\\O noise\\\\O of\\\\O the\\\\O 6\\\\O lane\\\\O highway\\\\O will\\\\O quickly\\\\O become\\\\O the\\\\O only\\\\O thing\\\\O you\\\\O hear\\\\O as\\\\O you\\\\O try\\\\O to\\\\O sleep.\\\\O .\\\\O', 'sentiment': 'Negative'}]}, {'id': tensor(1), 'sentence': 'The main event is the fitness club which is huge and awesome as well as the large lobby and rooms .', 'postag': ['DET', 'NOUN', 'NOUN', 'VERB', 'NUM', 'NOUN', 'PROPN', 'NOUN', 'NOUN', 'NOUN', 'CCONJ', 'PROPN', 'VERB', 'ADV', 'VERB', 'DET', 'NOUN', 'NOUN', 'CCONJ', 'NOUN', 'PUNCT'], 'head': tensor([ 1,  2, 12, 12,  5, 11, 11,  6,  9, 11, 11, 12, 12, 14, 12, 19, 19, 19,\n",
      "        19, 14, 12]), 'deprel': ['det', 'appos', 'nsubj', 'cop', 'det', 'dep', 'dep', 'dep', 'compound:nn', 'conj', 'cc', 'nsubj', 'ROOT', 'advmod', 'conj', 'det', 'dep', 'conj', 'cc', 'dobj', 'punct'], 'triples': [{'uid': '0-0', 'target_tags': 'The\\\\O main\\\\O event\\\\O is\\\\O the\\\\O fitness\\\\B club\\\\I which\\\\O is\\\\O huge\\\\O and\\\\O awesome\\\\O as\\\\O well\\\\O as\\\\O the\\\\O large\\\\O lobby\\\\O and\\\\O rooms\\\\O .\\\\O', 'opinion_tags': 'The\\\\O main\\\\O event\\\\O is\\\\O the\\\\O fitness\\\\O club\\\\O which\\\\O is\\\\O huge\\\\B and\\\\O awesome\\\\O as\\\\O well\\\\O as\\\\O the\\\\O large\\\\O lobby\\\\O and\\\\O rooms\\\\O .\\\\O', 'sentiment': 'Positive'}, {'uid': '0-1', 'target_tags': 'The\\\\O main\\\\O event\\\\O is\\\\O the\\\\O fitness\\\\B club\\\\I which\\\\O is\\\\O huge\\\\O and\\\\O awesome\\\\O as\\\\O well\\\\O as\\\\O the\\\\O large\\\\O lobby\\\\O and\\\\O rooms\\\\O .\\\\O', 'opinion_tags': 'The\\\\O main\\\\O event\\\\O is\\\\O the\\\\O fitness\\\\O club\\\\O which\\\\O is\\\\O huge\\\\O and\\\\O awesome\\\\B as\\\\O well\\\\O as\\\\O the\\\\O large\\\\O lobby\\\\O and\\\\O rooms\\\\O .\\\\O', 'sentiment': 'Positive'}, {'uid': '0-2', 'target_tags': 'The\\\\O main\\\\O event\\\\O is\\\\O the\\\\O fitness\\\\B club\\\\I which\\\\O is\\\\O huge\\\\O and\\\\O awesome\\\\O as\\\\O well\\\\O as\\\\O the\\\\O large\\\\O lobby\\\\O and\\\\O rooms\\\\O .\\\\O', 'opinion_tags': 'The\\\\O main\\\\O event\\\\O is\\\\O the\\\\O fitness\\\\O club\\\\O which\\\\O is\\\\O huge\\\\O and\\\\O awesome\\\\O as\\\\O well\\\\O as\\\\O the\\\\O large\\\\B lobby\\\\O and\\\\O rooms\\\\O .\\\\O', 'sentiment': 'Positive'}, {'uid': '0-3', 'target_tags': 'The\\\\O main\\\\O event\\\\O is\\\\O the\\\\O fitness\\\\B club\\\\I which\\\\O is\\\\O huge\\\\O and\\\\O awesome\\\\O as\\\\O well\\\\O as\\\\O the\\\\O large\\\\O lobby\\\\O and\\\\O rooms\\\\O .\\\\O', 'opinion_tags': 'The\\\\O main\\\\O event\\\\O is\\\\O the\\\\O fitness\\\\O club\\\\O which\\\\O is\\\\O huge\\\\O and\\\\O awesome\\\\O as\\\\O well\\\\O as\\\\O the\\\\O large\\\\B lobby\\\\O and\\\\O rooms\\\\O .\\\\O', 'sentiment': 'Positive'}, {'uid': '1-0', 'target_tags': 'The\\\\O main\\\\O event\\\\O is\\\\O the\\\\O fitness\\\\B club\\\\I which\\\\O is\\\\O huge\\\\O and\\\\O awesome\\\\O as\\\\O well\\\\O as\\\\O the\\\\O large\\\\O lobby\\\\O and\\\\O rooms\\\\O .\\\\O', 'opinion_tags': 'The\\\\O main\\\\O event\\\\O is\\\\O the\\\\O fitness\\\\O club\\\\O which\\\\O is\\\\O huge\\\\B and\\\\O awesome\\\\O as\\\\O well\\\\O as\\\\O the\\\\O large\\\\O lobby\\\\O and\\\\O rooms\\\\O .\\\\O', 'sentiment': 'Positive'}, {'uid': '1-1', 'target_tags': 'The\\\\O main\\\\O event\\\\O is\\\\O the\\\\O fitness\\\\B club\\\\I which\\\\O is\\\\O huge\\\\O and\\\\O awesome\\\\O as\\\\O well\\\\O as\\\\O the\\\\O large\\\\O lobby\\\\O and\\\\O rooms\\\\O .\\\\O', 'opinion_tags': 'The\\\\O main\\\\O event\\\\O is\\\\O the\\\\O fitness\\\\O club\\\\O which\\\\O is\\\\O huge\\\\O and\\\\O awesome\\\\B as\\\\O well\\\\O as\\\\O the\\\\O large\\\\O lobby\\\\O and\\\\O rooms\\\\O .\\\\O', 'sentiment': 'Positive'}, {'uid': '1-2', 'target_tags': 'The\\\\O main\\\\O event\\\\O is\\\\O the\\\\O fitness\\\\B club\\\\I which\\\\O is\\\\O huge\\\\O and\\\\O awesome\\\\O as\\\\O well\\\\O as\\\\O the\\\\O large\\\\O lobby\\\\O and\\\\O rooms\\\\O .\\\\O', 'opinion_tags': 'The\\\\O main\\\\O event\\\\O is\\\\O the\\\\O fitness\\\\O club\\\\O which\\\\O is\\\\O huge\\\\O and\\\\O awesome\\\\O as\\\\O well\\\\O as\\\\O the\\\\O large\\\\B lobby\\\\O and\\\\O rooms\\\\O .\\\\O', 'sentiment': 'Positive'}, {'uid': '1-3', 'target_tags': 'The\\\\O main\\\\O event\\\\O is\\\\O the\\\\O fitness\\\\B club\\\\I which\\\\O is\\\\O huge\\\\O and\\\\O awesome\\\\O as\\\\O well\\\\O as\\\\O the\\\\O large\\\\O lobby\\\\O and\\\\O rooms\\\\O .\\\\O', 'opinion_tags': 'The\\\\O main\\\\O event\\\\O is\\\\O the\\\\O fitness\\\\O club\\\\O which\\\\O is\\\\O huge\\\\O and\\\\O awesome\\\\O as\\\\O well\\\\O as\\\\O the\\\\O large\\\\B lobby\\\\O and\\\\O rooms\\\\O .\\\\O', 'sentiment': 'Positive'}, {'uid': '2-0', 'target_tags': 'The\\\\O main\\\\O event\\\\O is\\\\O the\\\\O fitness\\\\O club\\\\O which\\\\O is\\\\O huge\\\\O and\\\\O awesome\\\\O as\\\\O well\\\\O as\\\\O the\\\\O large\\\\O lobby\\\\B and\\\\O rooms\\\\O .\\\\O', 'opinion_tags': 'The\\\\O main\\\\O event\\\\O is\\\\O the\\\\O fitness\\\\O club\\\\O which\\\\O is\\\\O huge\\\\B and\\\\O awesome\\\\O as\\\\O well\\\\O as\\\\O the\\\\O large\\\\O lobby\\\\O and\\\\O rooms\\\\O .\\\\O', 'sentiment': 'Positive'}, {'uid': '2-1', 'target_tags': 'The\\\\O main\\\\O event\\\\O is\\\\O the\\\\O fitness\\\\O club\\\\O which\\\\O is\\\\O huge\\\\O and\\\\O awesome\\\\O as\\\\O well\\\\O as\\\\O the\\\\O large\\\\O lobby\\\\B and\\\\O rooms\\\\O .\\\\O', 'opinion_tags': 'The\\\\O main\\\\O event\\\\O is\\\\O the\\\\O fitness\\\\O club\\\\O which\\\\O is\\\\O huge\\\\O and\\\\O awesome\\\\B as\\\\O well\\\\O as\\\\O the\\\\O large\\\\O lobby\\\\O and\\\\O rooms\\\\O .\\\\O', 'sentiment': 'Positive'}, {'uid': '2-2', 'target_tags': 'The\\\\O main\\\\O event\\\\O is\\\\O the\\\\O fitness\\\\O club\\\\O which\\\\O is\\\\O huge\\\\O and\\\\O awesome\\\\O as\\\\O well\\\\O as\\\\O the\\\\O large\\\\O lobby\\\\B and\\\\O rooms\\\\O .\\\\O', 'opinion_tags': 'The\\\\O main\\\\O event\\\\O is\\\\O the\\\\O fitness\\\\O club\\\\O which\\\\O is\\\\O huge\\\\O and\\\\O awesome\\\\O as\\\\O well\\\\O as\\\\O the\\\\O large\\\\B lobby\\\\O and\\\\O rooms\\\\O .\\\\O', 'sentiment': 'Positive'}, {'uid': '2-3', 'target_tags': 'The\\\\O main\\\\O event\\\\O is\\\\O the\\\\O fitness\\\\O club\\\\O which\\\\O is\\\\O huge\\\\O and\\\\O awesome\\\\O as\\\\O well\\\\O as\\\\O the\\\\O large\\\\O lobby\\\\B and\\\\O rooms\\\\O .\\\\O', 'opinion_tags': 'The\\\\O main\\\\O event\\\\O is\\\\O the\\\\O fitness\\\\O club\\\\O which\\\\O is\\\\O huge\\\\O and\\\\O awesome\\\\O as\\\\O well\\\\O as\\\\O the\\\\O large\\\\B lobby\\\\O and\\\\O rooms\\\\O .\\\\O', 'sentiment': 'Positive'}, {'uid': '3-0', 'target_tags': 'The\\\\O main\\\\O event\\\\O is\\\\O the\\\\O fitness\\\\O club\\\\O which\\\\O is\\\\O huge\\\\O and\\\\O awesome\\\\O as\\\\O well\\\\O as\\\\O the\\\\O large\\\\O lobby\\\\O and\\\\O rooms\\\\B .\\\\O', 'opinion_tags': 'The\\\\O main\\\\O event\\\\O is\\\\O the\\\\O fitness\\\\O club\\\\O which\\\\O is\\\\O huge\\\\B and\\\\O awesome\\\\O as\\\\O well\\\\O as\\\\O the\\\\O large\\\\O lobby\\\\O and\\\\O rooms\\\\O .\\\\O', 'sentiment': 'Positive'}, {'uid': '3-1', 'target_tags': 'The\\\\O main\\\\O event\\\\O is\\\\O the\\\\O fitness\\\\O club\\\\O which\\\\O is\\\\O huge\\\\O and\\\\O awesome\\\\O as\\\\O well\\\\O as\\\\O the\\\\O large\\\\O lobby\\\\O and\\\\O rooms\\\\B .\\\\O', 'opinion_tags': 'The\\\\O main\\\\O event\\\\O is\\\\O the\\\\O fitness\\\\O club\\\\O which\\\\O is\\\\O huge\\\\O and\\\\O awesome\\\\B as\\\\O well\\\\O as\\\\O the\\\\O large\\\\O lobby\\\\O and\\\\O rooms\\\\O .\\\\O', 'sentiment': 'Positive'}, {'uid': '3-2', 'target_tags': 'The\\\\O main\\\\O event\\\\O is\\\\O the\\\\O fitness\\\\O club\\\\O which\\\\O is\\\\O huge\\\\O and\\\\O awesome\\\\O as\\\\O well\\\\O as\\\\O the\\\\O large\\\\O lobby\\\\O and\\\\O rooms\\\\B .\\\\O', 'opinion_tags': 'The\\\\O main\\\\O event\\\\O is\\\\O the\\\\O fitness\\\\O club\\\\O which\\\\O is\\\\O huge\\\\O and\\\\O awesome\\\\O as\\\\O well\\\\O as\\\\O the\\\\O large\\\\B lobby\\\\O and\\\\O rooms\\\\O .\\\\O', 'sentiment': 'Positive'}, {'uid': '3-3', 'target_tags': 'The\\\\O main\\\\O event\\\\O is\\\\O the\\\\O fitness\\\\O club\\\\O which\\\\O is\\\\O huge\\\\O and\\\\O awesome\\\\O as\\\\O well\\\\O as\\\\O the\\\\O large\\\\O lobby\\\\O and\\\\O rooms\\\\B .\\\\O', 'opinion_tags': 'The\\\\O main\\\\O event\\\\O is\\\\O the\\\\O fitness\\\\O club\\\\O which\\\\O is\\\\O huge\\\\O and\\\\O awesome\\\\O as\\\\O well\\\\O as\\\\O the\\\\O large\\\\B lobby\\\\O and\\\\O rooms\\\\O .\\\\O', 'sentiment': 'Positive'}]}]\n",
      "2024-05-24 23:13:01,369 INFO: valid data examples:\n",
      " []\n",
      "building vocab...\n"
     ]
    },
    {
     "name": "stderr",
     "output_type": "stream",
     "text": [
      "converting data to features:  66%|██████▌   | 668/1009 [00:13<00:10, 31.18it/s]"
     ]
    },
    {
     "name": "stdout",
     "output_type": "stream",
     "text": [
      "[2024-05-24 23:13:15] (2.4.1.post1) Processing error for: The pool , gym and wellness are very nice . The outlook and the terrace of cafe Jakarta are wonderful . By bike the city is just a heartbeat away . We’ve had an absolute great stay and will definitely be back again .. Exception: list index out of range\n"
     ]
    },
    {
     "name": "stderr",
     "output_type": "stream",
     "text": [
      "converting data to features:  82%|████████▏ | 831/1009 [00:21<00:07, 24.32it/s]"
     ]
    },
    {
     "name": "stdout",
     "output_type": "stream",
     "text": [
      "[2024-05-24 23:13:22] (2.4.1.post1) Processing error for: The rooms were small but well equipped and furnished with good space saving measures so you never really feel claustrophobic . In terms of transportation , tourist attractions like the Tower of London and Tower Bridge are nearby , but attractions in the west / north of london will require a longer journey . Nearest tube station is about 5 10 mins walk away .. Exception: list index out of range\n"
     ]
    },
    {
     "name": "stderr",
     "output_type": "stream",
     "text": [
      "converting data to features: 100%|██████████| 1009/1009 [00:28<00:00, 35.99it/s]\n",
      "converting data to features: 100%|██████████| 133/133 [00:02<00:00, 56.22it/s]\n",
      "converting data to features: 0it [00:00, ?it/s]\n"
     ]
    },
    {
     "name": "stdout",
     "output_type": "stream",
     "text": [
      "[2024-05-24 23:13:35] (2.4.1.post1) ABSADatasetsVersion:None\t-->\tCalling Count:0\n",
      "[2024-05-24 23:13:35] (2.4.1.post1) MV:<metric_visualizer.metric_visualizer.MetricVisualizer object at 0x000001B633665480>\t-->\tCalling Count:0\n",
      "[2024-05-24 23:13:35] (2.4.1.post1) PyABSAVersion:2.4.1.post1\t-->\tCalling Count:1\n",
      "[2024-05-24 23:13:35] (2.4.1.post1) SRD:3\t-->\tCalling Count:0\n",
      "[2024-05-24 23:13:35] (2.4.1.post1) TorchVersion:2.3.0+cu121+cuda12.1\t-->\tCalling Count:1\n",
      "[2024-05-24 23:13:35] (2.4.1.post1) TransformersVersion:4.30.0\t-->\tCalling Count:1\n",
      "[2024-05-24 23:13:35] (2.4.1.post1) adam_epsilon:1e-08\t-->\tCalling Count:1\n",
      "[2024-05-24 23:13:35] (2.4.1.post1) auto_device:True\t-->\tCalling Count:2\n",
      "[2024-05-24 23:13:35] (2.4.1.post1) batch_size:16\t-->\tCalling Count:0\n",
      "[2024-05-24 23:13:35] (2.4.1.post1) cache_dataset:False\t-->\tCalling Count:1\n",
      "[2024-05-24 23:13:35] (2.4.1.post1) checkpoint_save_mode:1\t-->\tCalling Count:3\n",
      "[2024-05-24 23:13:35] (2.4.1.post1) cross_validate_fold:-1\t-->\tCalling Count:0\n",
      "[2024-05-24 23:13:35] (2.4.1.post1) dataset_file:{'train': ['integrated_datasets\\\\aste_datasets\\\\HotelDS\\\\train.txt'], 'test': ['integrated_datasets\\\\aste_datasets\\\\HotelDS\\\\test.txt'], 'valid': []}\t-->\tCalling Count:13\n",
      "[2024-05-24 23:13:35] (2.4.1.post1) dataset_name:custom_dataset\t-->\tCalling Count:3\n",
      "[2024-05-24 23:13:35] (2.4.1.post1) dca_layer:3\t-->\tCalling Count:0\n",
      "[2024-05-24 23:13:35] (2.4.1.post1) dca_p:1\t-->\tCalling Count:0\n",
      "[2024-05-24 23:13:35] (2.4.1.post1) deep_ensemble:False\t-->\tCalling Count:0\n",
      "[2024-05-24 23:13:35] (2.4.1.post1) deprel_size:41\t-->\tCalling Count:1\n",
      "[2024-05-24 23:13:35] (2.4.1.post1) deprel_vocab:<pyabsa.tasks.AspectSentimentTripletExtraction.dataset_utils.aste_utils.VocabHelp object at 0x000001B650A06260>\t-->\tCalling Count:1142\n",
      "[2024-05-24 23:13:35] (2.4.1.post1) device:cuda:0\t-->\tCalling Count:2\n",
      "[2024-05-24 23:13:35] (2.4.1.post1) device_name:NVIDIA GeForce RTX 3080 Ti\t-->\tCalling Count:1\n",
      "[2024-05-24 23:13:35] (2.4.1.post1) dlcf_a:2\t-->\tCalling Count:0\n",
      "[2024-05-24 23:13:35] (2.4.1.post1) dropout:0.5\t-->\tCalling Count:0\n",
      "[2024-05-24 23:13:35] (2.4.1.post1) dynamic_truncate:True\t-->\tCalling Count:0\n",
      "[2024-05-24 23:13:35] (2.4.1.post1) emb_dropout:0.5\t-->\tCalling Count:1\n",
      "[2024-05-24 23:13:35] (2.4.1.post1) embed_dim:768\t-->\tCalling Count:0\n",
      "[2024-05-24 23:13:35] (2.4.1.post1) epochs:100\t-->\tCalling Count:0\n",
      "[2024-05-24 23:13:35] (2.4.1.post1) eta:1\t-->\tCalling Count:0\n",
      "[2024-05-24 23:13:35] (2.4.1.post1) eta_lr:0.1\t-->\tCalling Count:0\n",
      "[2024-05-24 23:13:35] (2.4.1.post1) evaluate_begin:0\t-->\tCalling Count:0\n",
      "[2024-05-24 23:13:35] (2.4.1.post1) from_checkpoint:None\t-->\tCalling Count:0\n",
      "[2024-05-24 23:13:35] (2.4.1.post1) gcn_dim:300\t-->\tCalling Count:6\n",
      "[2024-05-24 23:13:35] (2.4.1.post1) hidden_dim:768\t-->\tCalling Count:4\n",
      "[2024-05-24 23:13:35] (2.4.1.post1) index_to_label:OrderedDict([(0, 'N'), (1, 'B-A'), (2, 'I-A'), (3, 'A'), (4, 'B-O'), (5, 'I-O'), (6, 'O'), (7, 'Negative'), (8, 'Neutral'), (9, 'Positive')])\t-->\tCalling Count:0\n",
      "[2024-05-24 23:13:35] (2.4.1.post1) inference_model:None\t-->\tCalling Count:0\n",
      "[2024-05-24 23:13:35] (2.4.1.post1) initializer:xavier_uniform_\t-->\tCalling Count:0\n",
      "[2024-05-24 23:13:35] (2.4.1.post1) l2reg:1e-06\t-->\tCalling Count:3\n",
      "[2024-05-24 23:13:35] (2.4.1.post1) label_to_index:OrderedDict([('N', 0), ('B-A', 1), ('I-A', 2), ('A', 3), ('B-O', 4), ('I-O', 5), ('O', 6), ('Negative', 7), ('Neutral', 8), ('Positive', 9)])\t-->\tCalling Count:0\n",
      "[2024-05-24 23:13:35] (2.4.1.post1) lcf:cdw\t-->\tCalling Count:0\n",
      "[2024-05-24 23:13:35] (2.4.1.post1) learning_rate:2e-05\t-->\tCalling Count:3\n",
      "[2024-05-24 23:13:35] (2.4.1.post1) load_aug:False\t-->\tCalling Count:1\n",
      "[2024-05-24 23:13:35] (2.4.1.post1) log_step:-1\t-->\tCalling Count:0\n",
      "[2024-05-24 23:13:35] (2.4.1.post1) logger:<Logger emcgcn (INFO)>\t-->\tCalling Count:11\n",
      "[2024-05-24 23:13:35] (2.4.1.post1) lsa:False\t-->\tCalling Count:0\n",
      "[2024-05-24 23:13:35] (2.4.1.post1) max_seq_len:150\t-->\tCalling Count:52275\n",
      "[2024-05-24 23:13:35] (2.4.1.post1) model:<class 'pyabsa.tasks.AspectSentimentTripletExtraction.models.model.EMCGCN'>\t-->\tCalling Count:5\n",
      "[2024-05-24 23:13:35] (2.4.1.post1) model_name:emcgcn\t-->\tCalling Count:2\n",
      "[2024-05-24 23:13:35] (2.4.1.post1) model_path_to_save:checkpoints/aste/yangheng/deberta-v3-base-absa\t-->\tCalling Count:0\n",
      "[2024-05-24 23:13:35] (2.4.1.post1) num_epoch:30\t-->\tCalling Count:0\n",
      "[2024-05-24 23:13:35] (2.4.1.post1) num_layers:1\t-->\tCalling Count:1\n",
      "[2024-05-24 23:13:35] (2.4.1.post1) optimizer:adamw\t-->\tCalling Count:1\n",
      "[2024-05-24 23:13:35] (2.4.1.post1) output_dim:10\t-->\tCalling Count:7\n",
      "[2024-05-24 23:13:35] (2.4.1.post1) overwrite_cache:False\t-->\tCalling Count:0\n",
      "[2024-05-24 23:13:35] (2.4.1.post1) path_to_save:checkpoints/aste/yangheng/deberta-v3-base-absa\t-->\tCalling Count:2\n",
      "[2024-05-24 23:13:35] (2.4.1.post1) patience:99999\t-->\tCalling Count:0\n",
      "[2024-05-24 23:13:35] (2.4.1.post1) pooling:avg\t-->\tCalling Count:1\n",
      "[2024-05-24 23:13:35] (2.4.1.post1) post_size:143\t-->\tCalling Count:1\n",
      "[2024-05-24 23:13:35] (2.4.1.post1) post_vocab:<pyabsa.tasks.AspectSentimentTripletExtraction.dataset_utils.aste_utils.VocabHelp object at 0x000001B6542DEB60>\t-->\tCalling Count:1142\n",
      "[2024-05-24 23:13:35] (2.4.1.post1) postag_size:106\t-->\tCalling Count:1\n",
      "[2024-05-24 23:13:35] (2.4.1.post1) postag_vocab:<pyabsa.tasks.AspectSentimentTripletExtraction.dataset_utils.aste_utils.VocabHelp object at 0x000001B651E07940>\t-->\tCalling Count:1142\n",
      "[2024-05-24 23:13:35] (2.4.1.post1) pretrained_bert:yangheng/deberta-v3-base-absa\t-->\tCalling Count:5\n",
      "[2024-05-24 23:13:35] (2.4.1.post1) relation_constraint:True\t-->\tCalling Count:0\n",
      "[2024-05-24 23:13:35] (2.4.1.post1) save_mode:1\t-->\tCalling Count:0\n",
      "[2024-05-24 23:13:35] (2.4.1.post1) seed:52\t-->\tCalling Count:7\n",
      "[2024-05-24 23:13:35] (2.4.1.post1) sigma:0.3\t-->\tCalling Count:0\n",
      "[2024-05-24 23:13:35] (2.4.1.post1) similarity_threshold:1\t-->\tCalling Count:0\n",
      "[2024-05-24 23:13:35] (2.4.1.post1) spacy_model:zh_core_web_sm\t-->\tCalling Count:6\n",
      "[2024-05-24 23:13:35] (2.4.1.post1) srd_alignment:True\t-->\tCalling Count:0\n",
      "[2024-05-24 23:13:35] (2.4.1.post1) symmetry_decoding:False\t-->\tCalling Count:0\n",
      "[2024-05-24 23:13:35] (2.4.1.post1) syn_post_vocab:<pyabsa.tasks.AspectSentimentTripletExtraction.dataset_utils.aste_utils.VocabHelp object at 0x000001B651E04700>\t-->\tCalling Count:1144\n",
      "[2024-05-24 23:13:35] (2.4.1.post1) synpost_size:7\t-->\tCalling Count:1\n",
      "[2024-05-24 23:13:35] (2.4.1.post1) task:triplet\t-->\tCalling Count:36656\n",
      "[2024-05-24 23:13:35] (2.4.1.post1) task_code:ASTE\t-->\tCalling Count:2\n",
      "[2024-05-24 23:13:35] (2.4.1.post1) task_name:Aspect Sentiment Triple Extraction\t-->\tCalling Count:0\n",
      "[2024-05-24 23:13:35] (2.4.1.post1) token_vocab:<pyabsa.tasks.AspectSentimentTripletExtraction.dataset_utils.aste_utils.VocabHelp object at 0x000001B63B903400>\t-->\tCalling Count:0\n",
      "[2024-05-24 23:13:35] (2.4.1.post1) tokenizer:<pyabsa.framework.tokenizer_class.tokenizer_class.PretrainedTokenizer object at 0x000001B64D8A3250>\t-->\tCalling Count:0\n",
      "[2024-05-24 23:13:35] (2.4.1.post1) use_amp:True\t-->\tCalling Count:1\n",
      "[2024-05-24 23:13:35] (2.4.1.post1) use_bert_spc:True\t-->\tCalling Count:0\n",
      "[2024-05-24 23:13:35] (2.4.1.post1) use_syntax_based_SRD:False\t-->\tCalling Count:0\n",
      "[2024-05-24 23:13:35] (2.4.1.post1) warmup_step:-1\t-->\tCalling Count:0\n",
      "[2024-05-24 23:13:35] (2.4.1.post1) weight_decay:0.0\t-->\tCalling Count:0\n",
      "[2024-05-24 23:13:35] (2.4.1.post1) window:lr\t-->\tCalling Count:0\n",
      "2024-05-24 23:13:35,552 INFO: ***** Running training for Aspect Sentiment Triple Extraction *****\n",
      "2024-05-24 23:13:35,553 INFO: Training set examples = 1007\n",
      "2024-05-24 23:13:35,553 INFO: Test set examples = 133\n",
      "2024-05-24 23:13:35,554 INFO: Total params = 185532578, Trainable params = 185532578, Non-trainable params = 0\n",
      "2024-05-24 23:13:35,554 INFO: Batch size = 16\n",
      "2024-05-24 23:13:35,555 INFO: Num steps = 1890\n"
     ]
    },
    {
     "name": "stderr",
     "output_type": "stream",
     "text": [
      "Epoch:  0 | Smooth Loss: 0.4104: 100%|██████████| 63/63 [00:20<00:00,  3.13it/s, Dev F1:0.00(max:0.00)]\n",
      "Epoch:  1 | Smooth Loss: 0.3351: 100%|██████████| 63/63 [00:19<00:00,  3.28it/s, Dev F1:47.24(max:47.24)]\n",
      "Epoch:  2 | Smooth Loss: 0.2973: 100%|██████████| 63/63 [00:19<00:00,  3.18it/s, Dev F1:53.28(max:53.28)]\n",
      "Epoch:  3 | Smooth Loss: 0.2717: 100%|██████████| 63/63 [00:18<00:00,  3.49it/s, Dev F1:49.41(max:53.28)]\n",
      "Epoch:  4 | Smooth Loss: 0.2536: 100%|██████████| 63/63 [00:20<00:00,  3.13it/s, Dev F1:53.82(max:53.82)]\n",
      "Epoch:  5 | Smooth Loss: 0.2383: 100%|██████████| 63/63 [00:21<00:00,  2.96it/s, Dev F1:55.37(max:55.37)]\n",
      "Epoch:  6 | Smooth Loss: 0.2255: 100%|██████████| 63/63 [00:19<00:00,  3.24it/s, Dev F1:43.42(max:55.37)]\n",
      "Epoch:  7 | Smooth Loss: 0.2150: 100%|██████████| 63/63 [00:19<00:00,  3.25it/s, Dev F1:50.19(max:55.37)]\n",
      "Epoch:  8 | Smooth Loss: 0.2059: 100%|██████████| 63/63 [00:20<00:00,  3.08it/s, Dev F1:56.64(max:56.64)]\n",
      "Epoch:  9 | Smooth Loss: 0.1980: 100%|██████████| 63/63 [00:19<00:00,  3.24it/s, Dev F1:58.61(max:58.61)]\n",
      "Epoch: 10 | Smooth Loss: 0.1906: 100%|██████████| 63/63 [00:19<00:00,  3.16it/s, Dev F1:62.96(max:62.96)]\n",
      "Epoch: 11 | Smooth Loss: 0.1842: 100%|██████████| 63/63 [00:20<00:00,  3.13it/s, Dev F1:64.05(max:64.05)]\n",
      "Epoch: 12 | Smooth Loss: 0.1781: 100%|██████████| 63/63 [00:19<00:00,  3.27it/s, Dev F1:59.23(max:64.05)]\n",
      "Epoch: 13 | Smooth Loss: 0.1724: 100%|██████████| 63/63 [00:19<00:00,  3.31it/s, Dev F1:60.36(max:64.05)]\n",
      "Epoch: 14 | Smooth Loss: 0.1671: 100%|██████████| 63/63 [00:19<00:00,  3.26it/s, Dev F1:59.76(max:64.05)]\n",
      "Epoch: 15 | Smooth Loss: 0.1622: 100%|██████████| 63/63 [00:19<00:00,  3.20it/s, Dev F1:64.14(max:64.14)]\n",
      "Epoch: 16 | Smooth Loss: 0.1578: 100%|██████████| 63/63 [00:18<00:00,  3.42it/s, Dev F1:65.57(max:65.57)]\n",
      "Epoch: 17 | Smooth Loss: 0.1538: 100%|██████████| 63/63 [00:18<00:00,  3.37it/s, Dev F1:65.52(max:65.57)]\n",
      "Epoch: 18 | Smooth Loss: 0.1500: 100%|██████████| 63/63 [00:19<00:00,  3.18it/s, Dev F1:66.56(max:66.56)]\n",
      "Epoch: 19 | Smooth Loss: 0.1464: 100%|██████████| 63/63 [00:19<00:00,  3.25it/s, Dev F1:64.39(max:66.56)]\n",
      "Epoch: 20 | Smooth Loss: 0.1430: 100%|██████████| 63/63 [00:19<00:00,  3.25it/s, Dev F1:66.25(max:66.56)]\n",
      "Epoch: 21 | Smooth Loss: 0.1398: 100%|██████████| 63/63 [00:19<00:00,  3.24it/s, Dev F1:64.54(max:66.56)]\n",
      "Epoch: 22 | Smooth Loss: 0.1367: 100%|██████████| 63/63 [00:20<00:00,  3.15it/s, Dev F1:68.35(max:68.35)]\n",
      "Epoch: 23 | Smooth Loss: 0.1339: 100%|██████████| 63/63 [00:19<00:00,  3.29it/s, Dev F1:66.87(max:68.35)]\n",
      "Epoch: 24 | Smooth Loss: 0.1311: 100%|██████████| 63/63 [00:19<00:00,  3.30it/s, Dev F1:65.39(max:68.35)]\n",
      "Epoch: 25 | Smooth Loss: 0.1286: 100%|██████████| 63/63 [00:19<00:00,  3.26it/s, Dev F1:66.21(max:68.35)]\n",
      "Epoch: 26 | Smooth Loss: 0.1261: 100%|██████████| 63/63 [00:19<00:00,  3.26it/s, Dev F1:65.95(max:68.35)]\n",
      "Epoch: 27 | Smooth Loss: 0.1237: 100%|██████████| 63/63 [00:20<00:00,  3.14it/s, Dev F1:69.63(max:69.63)]\n",
      "Epoch: 28 | Smooth Loss: 0.1214: 100%|██████████| 63/63 [00:18<00:00,  3.34it/s, Dev F1:63.81(max:69.63)]\n",
      "Epoch: 29 | Smooth Loss: 0.1193: 100%|██████████| 63/63 [00:18<00:00,  3.33it/s, Dev F1:66.97(max:69.63)]\n"
     ]
    },
    {
     "name": "stdout",
     "output_type": "stream",
     "text": [
      "[2024-05-24 23:23:20] (2.4.1.post1) Loading best model: checkpoints/aste/yangheng/deberta-v3-base-absa/emcgcn_custom_dataset_f1_69.63/ and evaluating on test set \n",
      "2024-05-24 23:23:21,255 INFO: \n",
      "------------------------------------------------------------------------ Raw Metric Records ------------------------------------------------------------------------\n",
      "╒═══════════════════════════╤═════════════════════════════════════════════════════╤═════════════════════╤═══════════╤══════════╤═══════╤═══════╤═════════╤═════════╕\n",
      "│ Metric                    │ Trial                                               │ Values              │  Average  │  Median  │  Std  │  IQR  │   Min   │   Max   │\n",
      "╞═══════════════════════════╪═════════════════════════════════════════════════════╪═════════════════════╪═══════════╪══════════╪═══════╪═══════╪═════════╪═════════╡\n",
      "│ Max-Test-F1 w/o Valid Set │ emcgcn-custom_dataset-yangheng/deberta-v3-base-absa │ [69.63309914129586] │  69.6331  │ 69.6331  │   0   │   0   │ 69.6331 │ 69.6331 │\n",
      "├───────────────────────────┼─────────────────────────────────────────────────────┼─────────────────────┼───────────┼──────────┼───────┼───────┼─────────┼─────────┤\n",
      "│ Max-Test-F1               │ emcgcn-custom_dataset-yangheng/deberta-v3-base-absa │ [69.63309914129586] │  69.6331  │ 69.6331  │   0   │   0   │ 69.6331 │ 69.6331 │\n",
      "╘═══════════════════════════╧═════════════════════════════════════════════════════╧═════════════════════╧═══════════╧══════════╧═══════╧═══════╧═════════╧═════════╛\n",
      "--------------------------------------------------------- https://github.com/yangheng95/metric_visualizer ---------------------------------------------------------\n",
      "\n",
      "[2024-05-24 23:23:24] (2.4.1.post1) Load sentiment classifier from checkpoints/aste/yangheng/deberta-v3-base-absa/emcgcn_custom_dataset_f1_69.63/\n",
      "[2024-05-24 23:23:24] (2.4.1.post1) config: checkpoints/aste/yangheng/deberta-v3-base-absa/emcgcn_custom_dataset_f1_69.63/emcgcn.config\n",
      "[2024-05-24 23:23:24] (2.4.1.post1) state_dict: checkpoints/aste/yangheng/deberta-v3-base-absa/emcgcn_custom_dataset_f1_69.63/emcgcn.state_dict\n",
      "[2024-05-24 23:23:24] (2.4.1.post1) model: None\n",
      "[2024-05-24 23:23:24] (2.4.1.post1) tokenizer: checkpoints/aste/yangheng/deberta-v3-base-absa/emcgcn_custom_dataset_f1_69.63/emcgcn.tokenizer\n",
      "[2024-05-24 23:23:24] (2.4.1.post1) Set Model Device: cuda:0\n",
      "[2024-05-24 23:23:24] (2.4.1.post1) Device Name: NVIDIA GeForce RTX 3080 Ti\n"
     ]
    }
   ],
   "source": [
    "# -*- coding: utf-8 -*-\n",
    "# file: trainer.py\n",
    "# time: 2021/5/26 0026\n",
    "# author: YANG, HENG <hy345@exeter.ac.uk> (杨恒)\n",
    "# github: https://github.com/yangheng95\n",
    "# Copyright (C) 2021. All Rights Reserved.\n",
    "\n",
    "########################################################################################################################\n",
    "#                    train and evaluate on your own apc_datasets (need train and test apc_datasets)                    #\n",
    "########################################################################################################################\n",
    "\n",
    "from pyabsa import (\n",
    "    ModelSaveOption,\n",
    "    DeviceTypeOption,\n",
    "    DatasetItem,\n",
    ")\n",
    "pretrained_bert = \"yangheng/deberta-v3-base-absa\"\n",
    "from pyabsa import AspectSentimentTripletExtraction as ASTE\n",
    "\n",
    "config = ASTE.ASTEConfigManager.get_aste_config_english()\n",
    "config.max_seq_len = 150\n",
    "config.log_step = -1\n",
    "# config.pretrained_bert = \"microsoft/mdeberta-v3-base\"\n",
    "config.pretrained_bert = \"yangheng/deberta-v3-base-absa\"\n",
    "# config.pretrained_bert = \"bert-base-chinese\"\n",
    "config.num_epoch = 30\n",
    "config.learning_rate = 2e-5\n",
    "# config.cache_dataset = False\n",
    "config.use_amp = True\n",
    "config.cache_dataset = False\n",
    "config.spacy_model = \"zh_core_web_sm\"\n",
    "\n",
    "dataset = \"HotelDS\"\n",
    "trainer = ASTE.ASTETrainer(\n",
    "    config=config,\n",
    "    dataset=dataset,\n",
    "    # from_checkpoint='english',\n",
    "    checkpoint_save_mode=ModelSaveOption.SAVE_MODEL_STATE_DICT,\n",
    "    # checkpoint_save_mode=ModelSaveOption.DO_NOT_SAVE_MODEL,\n",
    "    path_to_save=f\"checkpoints/aste/{pretrained_bert}\",\n",
    "    auto_device=True,\n",
    ")\n",
    "triplet_extractor = trainer.load_trained_model()\n"
   ]
  },
  {
   "cell_type": "code",
   "execution_count": null,
   "metadata": {},
   "outputs": [],
   "source": []
  }
 ],
 "metadata": {
  "kernelspec": {
   "display_name": "tf-gpu",
   "language": "python",
   "name": "python3"
  },
  "language_info": {
   "codemirror_mode": {
    "name": "ipython",
    "version": 3
   },
   "file_extension": ".py",
   "mimetype": "text/x-python",
   "name": "python",
   "nbconvert_exporter": "python",
   "pygments_lexer": "ipython3",
   "version": "3.10.13"
  }
 },
 "nbformat": 4,
 "nbformat_minor": 2
}
